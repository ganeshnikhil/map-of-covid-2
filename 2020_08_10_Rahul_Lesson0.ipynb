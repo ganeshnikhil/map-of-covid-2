{
  "nbformat": 4,
  "nbformat_minor": 0,
  "metadata": {
    "colab": {
      "name": "2020-08-10_Rahul_Lesson0",
      "provenance": [],
      "collapsed_sections": [],
      "include_colab_link": true
    },
    "kernelspec": {
      "name": "python3",
      "display_name": "Python 3"
    }
  },
  "cells": [
    {
      "cell_type": "markdown",
      "metadata": {
        "id": "view-in-github",
        "colab_type": "text"
      },
      "source": [
        "<a href=\"https://colab.research.google.com/github/ganeshnikhil/map-of-covid-2/blob/main/2020_08_10_Rahul_Lesson0.ipynb\" target=\"_parent\"><img src=\"https://colab.research.google.com/assets/colab-badge.svg\" alt=\"Open In Colab\"/></a>"
      ]
    },
    {
      "cell_type": "markdown",
      "metadata": {
        "id": "W0l8coGdmyaI"
      },
      "source": [
        "# Lesson 0: COVID-19 Outbreak Analysis"
      ]
    },
    {
      "cell_type": "markdown",
      "metadata": {
        "id": "wf5ibdMS8C8W"
      },
      "source": [
        "### Teacher-Student Activities\n",
        "\n",
        "We all know that coronavirus is spreading on a daily basis in India. So, let's try to visualise how fast it is spreading.\n",
        "\n",
        "First, let's look at the dashboard created by Johns Hopkins University. You can look at the following live dashboard to see the real-time trend.\n",
        "\n",
        "[COVID-19 Live Dashboard](https://www.arcgis.com/apps/opsdashboard/index.html#/bda7594740fd40299423467b48e9ecf6)\n",
        "\n",
        "Now, let's create a similar map for India using Python to visualise the most affected states in India due to coronavirus. After the class, you can share it with your parents, relatives and friends by sending them the link to the map."
      ]
    },
    {
      "cell_type": "markdown",
      "metadata": {
        "id": "LH4QfpXOmwyk"
      },
      "source": [
        "---"
      ]
    },
    {
      "cell_type": "markdown",
      "metadata": {
        "id": "ZdRaRNsDu37s"
      },
      "source": [
        "**At this point, the student should share/present their screen with the teacher.**"
      ]
    },
    {
      "cell_type": "markdown",
      "metadata": {
        "id": "4vbg610OmKQj"
      },
      "source": [
        "---"
      ]
    },
    {
      "cell_type": "markdown",
      "metadata": {
        "id": "L_Opp5fyeA6V"
      },
      "source": [
        "#### Activity 1: Run Source Code\n",
        "\n",
        "This is the source code for the map to be created. You will learn to write it after signing up for the applied tech course. Right now, you just have to execute the code."
      ]
    },
    {
      "cell_type": "code",
      "metadata": {
        "id": "fbsMjhp2vZlE",
        "colab": {
          "base_uri": "https://localhost:8080/",
          "height": 479
        },
        "outputId": "c3432cbf-38c7-43e4-fd70-e29eb02aa9ff"
      },
      "source": [
        "# Student Action: Run the code below.\n",
        "# Download data\n",
        "!git clone https://github.com/CSSEGISandData/COVID-19.git\n",
        "\n",
        "# Install 'geocoder'\n",
        "!pip install geocoder\n",
        "\n",
        "# Importing modules\n",
        "import pandas as pd  \n",
        "import matplotlib.pyplot as plt \n",
        "import seaborn as sns\n",
        "import datetime \n",
        "import geocoder\n",
        "import folium\n",
        "from folium import plugins \n",
        "\n",
        "# DataFrame for the world\n",
        "conf_csv = '/content/COVID-19/csse_covid_19_data/csse_covid_19_time_series/time_series_covid19_confirmed_global.csv'\n",
        "conf_df = pd.read_csv(conf_csv)\n",
        "grouped_conf_df = conf_df.groupby(by = ['Country/Region'], as_index = False).sum()\n",
        "\n",
        "# DataFrame for India\n",
        "india_df = pd.read_csv(\"https://api.covid19india.org/csv/latest/state_wise.csv\")\n",
        "india_df = india_df.iloc[1:, :]\n",
        "state_latitudes = []\n",
        "state_longitudes = []\n",
        "for i in india_df.index:\n",
        "    state = india_df['State'][i]\n",
        "    state_lat = geocoder.osm(state).lat\n",
        "    state_lng = geocoder.osm(state).lng\n",
        "    state_latitudes.append(state_lat)\n",
        "    state_longitudes.append(state_lng)\n",
        "\n",
        "state_latitudes = pd.Series(data = state_latitudes, index = india_df.index)\n",
        "state_longitudes = pd.Series(data = state_longitudes, index = india_df.index)\n",
        "india_df['Latitude'] = state_latitudes\n",
        "india_df['Longitude'] = state_longitudes\n",
        "\n",
        "# DataFrame for the US\n",
        "us_conf_csv = '/content/COVID-19/csse_covid_19_data/csse_covid_19_time_series/time_series_covid19_confirmed_US.csv'\n",
        "us_conf_df = pd.read_csv(us_conf_csv)\n",
        "us_conf_df = us_conf_df.dropna()\n",
        "grouped_us_conf_df = us_conf_df.groupby(by = ['Combined_Key'], as_index = False).sum()\n",
        "\n",
        "# Function to get total confirmed cases in a country\n",
        "def get_total_confirmed_cases_for_country(country_name):\n",
        "    total_cases_country = conf_df[conf_df['Country/Region'] == country_name].iloc[:, 4:].apply(sum, axis = 0)\n",
        "    total_cases_country.index = pd.to_datetime(total_cases_country.index)\n",
        "    return total_cases_country\n",
        "\n",
        "# Function to get total confirmed cases in the world\n",
        "def get_total_confirmed_global_cases():\n",
        "    global_cases = conf_df.iloc[:, 4:].apply(sum, axis=0)\n",
        "    global_cases.index = pd.to_datetime(global_cases.index)\n",
        "    return global_cases\n",
        "\n",
        "# Function to create a line plot\n",
        "def line_plot(your_name, plot_background, fig_width, fig_height, country_name, colour, linewidth, markertype):\n",
        "    dt_series = None\n",
        "    if country_name != 'global':\n",
        "        dt_series = get_total_confirmed_cases_for_country(country_name)\n",
        "    else:\n",
        "        dt_series = get_total_confirmed_global_cases()\n",
        "    plt.style.use(plot_background)\n",
        "    plt.figure(figsize = (fig_width, fig_height))\n",
        "    plt.title(f'{country_name.upper()}: Total Coronavirus Cases Reported\\nCreated by {your_name.upper()}\\nPowered by WhiteHat Jr', fontsize = 16)\n",
        "    plt.plot(dt_series.index, dt_series, c = colour, lw = linewidth, marker = markertype, markersize = 7)\n",
        "    plt.xticks(rotation = 45)\n",
        "    plt.ylabel(\"Total Cases\")\n",
        "    plt.grid(linestyle='--', c='grey')\n",
        "    plt.show()\n",
        "\n",
        "# Add minimap\n",
        "def add_minimap(map_name):\n",
        "    # Plugin for mini map\n",
        "    minimap = plugins.MiniMap(toggle_display = True)\n",
        "    map_name.add_child(minimap) # Add minimap\n",
        "    plugins.ScrollZoomToggler().add_to(map_name) # Add scroll zoom toggler to map\n",
        "    plugins.Fullscreen(position='topright').add_to(map_name) # Add full screen button to map\n",
        "\n",
        "# Add title to map\n",
        "def add_title(map_name, country, your_name):\n",
        "    title_html = '''\n",
        "        <h2 align=\"center\" style=\"font-size:20px\"><b>Coronavirus Total Confirmed Cases in {}</b></h2>\n",
        "        <h4 align=\"center\" style=\"font-size:16px\"><i>Created by</i> {}</h4>\n",
        "        <h4 align=\"center\" style=\"font-size:16px\"><i>Powered by</i>\n",
        "            <a href=\"https://www.whitehatjr.com/\">WhiteHat Jr</a>\n",
        "        </h4>\n",
        "             '''.format(country, your_name.upper())   \n",
        "    return map_name.get_root().html.add_child(folium.Element(title_html))\n",
        "\n",
        "# Function to create folium maps using for India, US and the world\n",
        "def folium_map_with_circles(your_name, country, map_width, map_height, left_margin, top_margin, map_tile, zoom, circle_color, minimap):\n",
        "    last_col = conf_df.columns[-1]\n",
        "    if country == 'India':\n",
        "        india_map = folium.Map(location = [22.3511148, 78.6677428], \n",
        "                               width = map_width, height = map_height,\n",
        "                               left = f\"{left_margin}%\", top = f\"{top_margin}%\",\n",
        "                               tiles = map_tile, zoom_start = zoom)\n",
        "        \n",
        "        if minimap == True:\n",
        "            add_minimap(india_map)\n",
        "    \n",
        "        add_title(india_map, country, your_name)    \n",
        "        for i in india_df.index:\n",
        "            folium.Circle(radius = float(india_df.loc[i, 'Confirmed']) / 1.25,\n",
        "                          location = [india_df.loc[i, 'Latitude'], india_df.loc[i, 'Longitude']],\n",
        "                          popup = \"{}\\n {}\\n on {}\".format(india_df.loc[i, 'State'], \n",
        "                                                          india_df.loc[i, 'Confirmed'], \n",
        "                                                          india_df.loc[i, 'Last_Updated_Time']),\n",
        "                          \n",
        "                          color = circle_color,\n",
        "                          fill = True).add_to(india_map)\n",
        "        return india_map\n",
        "\n",
        "    elif country == 'US':\n",
        "        us_map = folium.Map(location = [39.381266, -97.922211], \n",
        "                            width = map_width, height = map_height, \n",
        "                            left = f\"{left_margin}%\", top = f\"{top_margin}%\",\n",
        "                            tiles = map_tile, zoom_start = zoom)\n",
        "        if minimap == True:\n",
        "            add_minimap(us_map)\n",
        "        \n",
        "        add_title(us_map, country, your_name)\n",
        "        for i in grouped_us_conf_df.index:\n",
        "            folium.Circle(location = [grouped_us_conf_df.loc[i, 'Lat'], grouped_us_conf_df.loc[i, 'Long_']], \n",
        "                          radius = int(grouped_us_conf_df.loc[i, last_col]), \n",
        "                          popup = \"{}\\n {}\\n on {}\".format(grouped_us_conf_df.loc[i, 'Combined_Key'],\n",
        "                                                          grouped_us_conf_df.loc[i, last_col],\n",
        "                                                          last_col),\n",
        "                          color = circle_color,\n",
        "                          fill = True).add_to(us_map)\n",
        "        return us_map\n",
        "    \n",
        "    elif country == 'World':\n",
        "        world_map = folium.Map(location = [0, 0], \n",
        "                            width = map_width, height = map_height, \n",
        "                            left = f\"{left_margin}%\", top = f\"{top_margin}%\",\n",
        "                            tiles = map_tile, zoom_start = zoom)\n",
        "        if minimap == True:\n",
        "            add_minimap(world_map)\n",
        "        \n",
        "        add_title(world_map, country, your_name)\n",
        "        for i in grouped_conf_df.index:\n",
        "            folium.Circle(location = [grouped_conf_df.loc[i, 'Lat'], grouped_conf_df.loc[i, 'Long']], \n",
        "                          radius = int(grouped_conf_df.loc[i, last_col]) / 2, \n",
        "                          popup = \"{}\\n {}\\n on {}\".format(grouped_conf_df.loc[i, 'Country/Region'],\n",
        "                                                          grouped_conf_df.loc[i, last_col], \n",
        "                                                          last_col),\n",
        "                          color = circle_color, \n",
        "                          fill = True).add_to(world_map)\n",
        "        return world_map\n",
        "    else:\n",
        "        print(\"\\nWrong input! Enter either India, US or World.\\n\")\n",
        "\n",
        "# Total confirmed cases in the descending order.\n",
        "grouped_conf_df = conf_df.groupby(by='Country/Region', as_index=False).sum()\n",
        "desc_grp_conf_df = grouped_conf_df.sort_values(by=conf_df.columns[-1], ascending=False)\n",
        "\n",
        "# Function to create a bar plot displaying the top 10 countries having the most number of coronavirus confirmed cases.\n",
        "def bar_plot(your_name, num_countries, width, height):\n",
        "    last_col = conf_df.columns[-1]\n",
        "    latest_date = datetime.datetime.strptime(last_col, '%m/%d/%y').strftime('%B %d, %Y') # Modify the latest date in the 'Month DD, YYYY' format.\n",
        "    plt.figure(figsize = (width, height))\n",
        "    plt.title(f'Top {num_countries} Countries with Highest COVID-19 Confirmed Cases\\nCreated by {your_name.upper()}\\nPowered by WhiteHat Jr', \n",
        "              fontsize = 16)\n",
        "    sns.barplot(desc_grp_conf_df[last_col].head(num_countries), desc_grp_conf_df['Country/Region'].head(num_countries), orient = 'h')\n",
        "    plt.xlabel(f'Total Confirmed Cases (in millions) as of {latest_date}')\n",
        "    plt.show()\n",
        "\n",
        "# Non-cumulative Confirmed Cases.\n",
        "non_cum_conf_df = desc_grp_conf_df.iloc[:, :4]\n",
        "for i in range(len(desc_grp_conf_df.columns[3:]) - 1):\n",
        "    series = desc_grp_conf_df[desc_grp_conf_df.columns[3 + (i + 1) ]] - desc_grp_conf_df[desc_grp_conf_df.columns[3 + i]]\n",
        "    non_cum_conf_df[desc_grp_conf_df.columns[3 + (i + 1)]] = series\n",
        "\n",
        "# Function to get the total non-cumulative confirmed cases in a country.\n",
        "def get_total_daily_confirmed_cases_for_country(country_name):\n",
        "    total_daily_cases = non_cum_conf_df[non_cum_conf_df['Country/Region'] == country_name].iloc[:, 4:].apply(sum, axis = 0)\n",
        "    total_daily_cases.index = pd.to_datetime(total_daily_cases.index)\n",
        "    return total_daily_cases\n",
        "\n",
        "# Line plot for the daily (non-cumulative) confirmed cases in various countries.\n",
        "def daily_cases_line_plot(your_name, num_countries, width, height):\n",
        "    plt.figure(figsize=(width, height))\n",
        "    plt.title(f'Non-Cumulative COVID-19 Confirmed Cases\\nCreated by {your_name.upper()}\\nPowered by WhiteHat Jr', fontsize = 16)\n",
        "    for region in non_cum_conf_df.iloc[:num_countries, :]['Country/Region']:\n",
        "        total_conf_cases = get_total_daily_confirmed_cases_for_country(region)\n",
        "        plt.plot(total_conf_cases.index[53:], total_conf_cases[53:], lw=2.5, label=region)\n",
        "    plt.xticks(rotation=45)\n",
        "    plt.legend()\n",
        "    plt.grid('major', linestyle='--', c='grey')\n",
        "    plt.show()"
      ],
      "execution_count": null,
      "outputs": [
        {
          "output_type": "stream",
          "text": [
            "Cloning into 'COVID-19'...\n",
            "remote: Enumerating objects: 6, done.\u001b[K\n",
            "remote: Counting objects:  16% (1/6)\u001b[K\rremote: Counting objects:  33% (2/6)\u001b[K\rremote: Counting objects:  50% (3/6)\u001b[K\rremote: Counting objects:  66% (4/6)\u001b[K\rremote: Counting objects:  83% (5/6)\u001b[K\rremote: Counting objects: 100% (6/6)\u001b[K\rremote: Counting objects: 100% (6/6), done.\u001b[K\n",
            "remote: Compressing objects: 100% (6/6), done.\u001b[K\n",
            "remote: Total 45156 (delta 0), reused 2 (delta 0), pack-reused 45150\u001b[K\n",
            "Receiving objects: 100% (45156/45156), 344.61 MiB | 22.29 MiB/s, done.\n",
            "Resolving deltas: 100% (28052/28052), done.\n",
            "Checking out files: 100% (550/550), done.\n",
            "Collecting geocoder\n",
            "\u001b[?25l  Downloading https://files.pythonhosted.org/packages/4f/6b/13166c909ad2f2d76b929a4227c952630ebaf0d729f6317eb09cbceccbab/geocoder-1.38.1-py2.py3-none-any.whl (98kB)\n",
            "\u001b[K     |████████████████████████████████| 102kB 4.2MB/s \n",
            "\u001b[?25hCollecting ratelim\n",
            "  Downloading https://files.pythonhosted.org/packages/f2/98/7e6d147fd16a10a5f821db6e25f192265d6ecca3d82957a4fdd592cad49c/ratelim-0.1.6-py2.py3-none-any.whl\n",
            "Requirement already satisfied: six in /usr/local/lib/python3.6/dist-packages (from geocoder) (1.15.0)\n",
            "Requirement already satisfied: future in /usr/local/lib/python3.6/dist-packages (from geocoder) (0.16.0)\n",
            "Requirement already satisfied: requests in /usr/local/lib/python3.6/dist-packages (from geocoder) (2.23.0)\n",
            "Requirement already satisfied: click in /usr/local/lib/python3.6/dist-packages (from geocoder) (7.1.2)\n",
            "Requirement already satisfied: decorator in /usr/local/lib/python3.6/dist-packages (from ratelim->geocoder) (4.4.2)\n",
            "Requirement already satisfied: chardet<4,>=3.0.2 in /usr/local/lib/python3.6/dist-packages (from requests->geocoder) (3.0.4)\n",
            "Requirement already satisfied: certifi>=2017.4.17 in /usr/local/lib/python3.6/dist-packages (from requests->geocoder) (2020.6.20)\n",
            "Requirement already satisfied: idna<3,>=2.5 in /usr/local/lib/python3.6/dist-packages (from requests->geocoder) (2.10)\n",
            "Requirement already satisfied: urllib3!=1.25.0,!=1.25.1,<1.26,>=1.21.1 in /usr/local/lib/python3.6/dist-packages (from requests->geocoder) (1.24.3)\n",
            "Installing collected packages: ratelim, geocoder\n",
            "Successfully installed geocoder-1.38.1 ratelim-0.1.6\n"
          ],
          "name": "stdout"
        },
        {
          "output_type": "stream",
          "text": [
            "/usr/local/lib/python3.6/dist-packages/statsmodels/tools/_testing.py:19: FutureWarning: pandas.util.testing is deprecated. Use the functions in the public API at pandas.testing instead.\n",
            "  import pandas.util.testing as tm\n"
          ],
          "name": "stderr"
        }
      ]
    },
    {
      "cell_type": "markdown",
      "metadata": {
        "id": "gg0S_PoPIWNa"
      },
      "source": [
        "---"
      ]
    },
    {
      "cell_type": "markdown",
      "metadata": {
        "id": "pbKvEaCufa-p"
      },
      "source": [
        "#### Activity 2: Line Plot^\n",
        "\n",
        "Let's create a line plot to visualise the total number of confirmed cases in India till yesterday. For the line plot, the dataset that we have on coronavirus is maintained at Johns Hopkins University which gets according to the US time. Hence, we have data updated till yesterday. \n",
        "\n",
        "To view this dataset, write `conf_df[conf_df['Country/Region'] == 'India']` in the code cell below."
      ]
    },
    {
      "cell_type": "code",
      "metadata": {
        "id": "qpXGILXhk64L",
        "colab": {
          "base_uri": "https://localhost:8080/",
          "height": 129
        },
        "outputId": "e8b7fd64-f7bd-44e3-8f9f-24311d588d8c"
      },
      "source": [
        "# Student Action: Write conf_df[conf_df['Country/Region'] == 'India'] to view the dataset for India that will be used to create a line plot.\n",
        "conf_df[conf_df['Country/Region']=='New Zealand']"
      ],
      "execution_count": null,
      "outputs": [
        {
          "output_type": "execute_result",
          "data": {
            "text/html": [
              "<div>\n",
              "<style scoped>\n",
              "    .dataframe tbody tr th:only-of-type {\n",
              "        vertical-align: middle;\n",
              "    }\n",
              "\n",
              "    .dataframe tbody tr th {\n",
              "        vertical-align: top;\n",
              "    }\n",
              "\n",
              "    .dataframe thead th {\n",
              "        text-align: right;\n",
              "    }\n",
              "</style>\n",
              "<table border=\"1\" class=\"dataframe\">\n",
              "  <thead>\n",
              "    <tr style=\"text-align: right;\">\n",
              "      <th></th>\n",
              "      <th>Province/State</th>\n",
              "      <th>Country/Region</th>\n",
              "      <th>Lat</th>\n",
              "      <th>Long</th>\n",
              "      <th>1/22/20</th>\n",
              "      <th>1/23/20</th>\n",
              "      <th>1/24/20</th>\n",
              "      <th>1/25/20</th>\n",
              "      <th>1/26/20</th>\n",
              "      <th>1/27/20</th>\n",
              "      <th>1/28/20</th>\n",
              "      <th>1/29/20</th>\n",
              "      <th>1/30/20</th>\n",
              "      <th>1/31/20</th>\n",
              "      <th>2/1/20</th>\n",
              "      <th>2/2/20</th>\n",
              "      <th>2/3/20</th>\n",
              "      <th>2/4/20</th>\n",
              "      <th>2/5/20</th>\n",
              "      <th>2/6/20</th>\n",
              "      <th>2/7/20</th>\n",
              "      <th>2/8/20</th>\n",
              "      <th>2/9/20</th>\n",
              "      <th>2/10/20</th>\n",
              "      <th>2/11/20</th>\n",
              "      <th>2/12/20</th>\n",
              "      <th>2/13/20</th>\n",
              "      <th>2/14/20</th>\n",
              "      <th>2/15/20</th>\n",
              "      <th>2/16/20</th>\n",
              "      <th>2/17/20</th>\n",
              "      <th>2/18/20</th>\n",
              "      <th>2/19/20</th>\n",
              "      <th>2/20/20</th>\n",
              "      <th>2/21/20</th>\n",
              "      <th>2/22/20</th>\n",
              "      <th>2/23/20</th>\n",
              "      <th>2/24/20</th>\n",
              "      <th>2/25/20</th>\n",
              "      <th>2/26/20</th>\n",
              "      <th>...</th>\n",
              "      <th>7/1/20</th>\n",
              "      <th>7/2/20</th>\n",
              "      <th>7/3/20</th>\n",
              "      <th>7/4/20</th>\n",
              "      <th>7/5/20</th>\n",
              "      <th>7/6/20</th>\n",
              "      <th>7/7/20</th>\n",
              "      <th>7/8/20</th>\n",
              "      <th>7/9/20</th>\n",
              "      <th>7/10/20</th>\n",
              "      <th>7/11/20</th>\n",
              "      <th>7/12/20</th>\n",
              "      <th>7/13/20</th>\n",
              "      <th>7/14/20</th>\n",
              "      <th>7/15/20</th>\n",
              "      <th>7/16/20</th>\n",
              "      <th>7/17/20</th>\n",
              "      <th>7/18/20</th>\n",
              "      <th>7/19/20</th>\n",
              "      <th>7/20/20</th>\n",
              "      <th>7/21/20</th>\n",
              "      <th>7/22/20</th>\n",
              "      <th>7/23/20</th>\n",
              "      <th>7/24/20</th>\n",
              "      <th>7/25/20</th>\n",
              "      <th>7/26/20</th>\n",
              "      <th>7/27/20</th>\n",
              "      <th>7/28/20</th>\n",
              "      <th>7/29/20</th>\n",
              "      <th>7/30/20</th>\n",
              "      <th>7/31/20</th>\n",
              "      <th>8/1/20</th>\n",
              "      <th>8/2/20</th>\n",
              "      <th>8/3/20</th>\n",
              "      <th>8/4/20</th>\n",
              "      <th>8/5/20</th>\n",
              "      <th>8/6/20</th>\n",
              "      <th>8/7/20</th>\n",
              "      <th>8/8/20</th>\n",
              "      <th>8/9/20</th>\n",
              "    </tr>\n",
              "  </thead>\n",
              "  <tbody>\n",
              "    <tr>\n",
              "      <th>170</th>\n",
              "      <td>NaN</td>\n",
              "      <td>New Zealand</td>\n",
              "      <td>-40.9006</td>\n",
              "      <td>174.886</td>\n",
              "      <td>0</td>\n",
              "      <td>0</td>\n",
              "      <td>0</td>\n",
              "      <td>0</td>\n",
              "      <td>0</td>\n",
              "      <td>0</td>\n",
              "      <td>0</td>\n",
              "      <td>0</td>\n",
              "      <td>0</td>\n",
              "      <td>0</td>\n",
              "      <td>0</td>\n",
              "      <td>0</td>\n",
              "      <td>0</td>\n",
              "      <td>0</td>\n",
              "      <td>0</td>\n",
              "      <td>0</td>\n",
              "      <td>0</td>\n",
              "      <td>0</td>\n",
              "      <td>0</td>\n",
              "      <td>0</td>\n",
              "      <td>0</td>\n",
              "      <td>0</td>\n",
              "      <td>0</td>\n",
              "      <td>0</td>\n",
              "      <td>0</td>\n",
              "      <td>0</td>\n",
              "      <td>0</td>\n",
              "      <td>0</td>\n",
              "      <td>0</td>\n",
              "      <td>0</td>\n",
              "      <td>0</td>\n",
              "      <td>0</td>\n",
              "      <td>0</td>\n",
              "      <td>0</td>\n",
              "      <td>0</td>\n",
              "      <td>0</td>\n",
              "      <td>...</td>\n",
              "      <td>1530</td>\n",
              "      <td>1530</td>\n",
              "      <td>1530</td>\n",
              "      <td>1533</td>\n",
              "      <td>1534</td>\n",
              "      <td>1536</td>\n",
              "      <td>1537</td>\n",
              "      <td>1540</td>\n",
              "      <td>1542</td>\n",
              "      <td>1543</td>\n",
              "      <td>1544</td>\n",
              "      <td>1544</td>\n",
              "      <td>1545</td>\n",
              "      <td>1547</td>\n",
              "      <td>1548</td>\n",
              "      <td>1549</td>\n",
              "      <td>1550</td>\n",
              "      <td>1553</td>\n",
              "      <td>1554</td>\n",
              "      <td>1555</td>\n",
              "      <td>1555</td>\n",
              "      <td>1555</td>\n",
              "      <td>1556</td>\n",
              "      <td>1556</td>\n",
              "      <td>1556</td>\n",
              "      <td>1556</td>\n",
              "      <td>1557</td>\n",
              "      <td>1559</td>\n",
              "      <td>1560</td>\n",
              "      <td>1560</td>\n",
              "      <td>1562</td>\n",
              "      <td>1565</td>\n",
              "      <td>1567</td>\n",
              "      <td>1567</td>\n",
              "      <td>1569</td>\n",
              "      <td>1569</td>\n",
              "      <td>1569</td>\n",
              "      <td>1569</td>\n",
              "      <td>1569</td>\n",
              "      <td>1569</td>\n",
              "    </tr>\n",
              "  </tbody>\n",
              "</table>\n",
              "<p>1 rows × 205 columns</p>\n",
              "</div>"
            ],
            "text/plain": [
              "    Province/State Country/Region      Lat  ...  8/7/20  8/8/20  8/9/20\n",
              "170            NaN    New Zealand -40.9006  ...    1569    1569    1569\n",
              "\n",
              "[1 rows x 205 columns]"
            ]
          },
          "metadata": {
            "tags": []
          },
          "execution_count": 18
        }
      ]
    },
    {
      "cell_type": "markdown",
      "metadata": {
        "id": "uObwYzKCHHiK"
      },
      "source": [
        "So, in this dataset, we have data for the total confirmed cases in India starting from January 22, 2020. The date given here is in the `MM/DD/YY` format where \n",
        "\n",
        "- `MM` stands for month\n",
        "\n",
        "- `DD` stands for day\n",
        "\n",
        "- `YY` stands for year\n",
        "\n",
        "Now, let's create a line plot. To create a line plot, you need to use the `line_plot()` function which takes the following inputs:\n",
        "\n",
        "- Name of the person who is creating the line plot which should be a text value enclosed within single-quotes (`''`) or double-quotes (`\"\"`).\n",
        "\n",
        "- The background style of the line plot which should be a text value enclosed within single-quotes (`''`) or double-quotes (`\"\"`).. Here is the list of most commonly used background styles:\n",
        "\n",
        "  1. `'dark_background'` (most preferred)\n",
        "\n",
        "  2. `'ggplot'`\n",
        "\n",
        "  3. `'seaborn'`\n",
        "\n",
        "  4. `'fivethirtyeight'`\n",
        "\n",
        "  and many more.\n",
        "\n",
        "- Width of the line plot (numeric value).\n",
        "\n",
        "- Height of the line plot (numeric value).\n",
        "\n",
        "- Name of the country which should be a text value enclosed within single-quotes (`''`) or double-quotes (`\"\"`).\n",
        "\n",
        "- Colour of the lines which should be a text value enclosed within single-quotes (`''`) or double-quotes (`\"\"`). Here's the list of most commonly used colours:\n",
        "\n",
        "  1. `'red'`\n",
        "  \n",
        "  2. `'cyan'` \n",
        "  \n",
        "  3. `'magenta'`\n",
        "\n",
        "  4. `'yellow'`\n",
        "\n",
        "  5. `'green'`\n",
        "\n",
        "- The width of the line (numeric value)\n",
        "\n",
        "- The marker style on the line plot which should be a text value enclosed within single-quotes (`''`) or double-quotes (`\"\"`). Here is the list of the most commonly used marker styles:\n",
        "\n",
        "  1. `'o'` for a circular marker\n",
        "\n",
        "  2. `'*'` for a starred marker\n",
        "\n",
        "  3. `'^'` for a upper triangular marker\n"
      ]
    },
    {
      "cell_type": "code",
      "metadata": {
        "id": "_UhDfh2YHXO6"
      },
      "source": [
        ""
      ],
      "execution_count": null,
      "outputs": []
    },
    {
      "cell_type": "code",
      "metadata": {
        "id": "G1HArsXcHNXK",
        "colab": {
          "base_uri": "https://localhost:8080/",
          "height": 562
        },
        "outputId": "03eda94f-8430-43bf-d7e1-94ae490ef4db"
      },
      "source": [
        "# Student Action: Create a line plot for the total confirmed cases in India using the 'line_plot()' function.\n",
        "line_plot(\"Ganesh\",'ggplot',20,8,\"US\",\"green\",2,'*')"
      ],
      "execution_count": null,
      "outputs": [
        {
          "output_type": "display_data",
          "data": {
            "image/png": "[encoded data removed]",
            "text/plain": [
              "<Figure size 1440x576 with 1 Axes>"
            ]
          },
          "metadata": {
            "tags": []
          }
        }
      ]
    },
    {
      "cell_type": "code",
      "metadata": {
        "id": "4QHY4y5OG3sD"
      },
      "source": [
        "from google.colab import drive\n",
        "drive.mount('/content/drive')"
      ],
      "execution_count": null,
      "outputs": []
    },
    {
      "cell_type": "markdown",
      "metadata": {
        "id": "2uQJGNR1lJBz"
      },
      "source": [
        "**Note:** The `line_plot()` function is NOT a standard Python function. It is a user-defined function created at WhiteHat Jr using Python to simplify the line plot creation process. You will learn to create your own user-defined function in the subsequent classes in this course."
      ]
    },
    {
      "cell_type": "markdown",
      "metadata": {
        "id": "Rt79o-Ork9BO"
      },
      "source": [
        "---"
      ]
    },
    {
      "cell_type": "markdown",
      "metadata": {
        "id": "bb1A1XTZDyxv"
      },
      "source": [
        "#### Activity 3: Map^^\n",
        "\n",
        "Let's create a map for India. For this, we are going to use a dataset showing state-wise data for India. To view the first five rows for the total confirmed cases in India, call the `head()` function on the `india_df` variable which stores the data."
      ]
    },
    {
      "cell_type": "code",
      "metadata": {
        "id": "zcbuqGnITevO",
        "colab": {
          "base_uri": "https://localhost:8080/",
          "height": 462
        },
        "outputId": "b0e94500-3843-46f0-e877-fb9c342f88ed"
      },
      "source": [
        "# Student Action: List the first five rows of the dataset containing the total number of confirmed cases in India. \n",
        "india_df.head()"
      ],
      "execution_count": null,
      "outputs": [
        {
          "output_type": "execute_result",
          "data": {
            "text/html": [
              "<div>\n",
              "<style scoped>\n",
              "    .dataframe tbody tr th:only-of-type {\n",
              "        vertical-align: middle;\n",
              "    }\n",
              "\n",
              "    .dataframe tbody tr th {\n",
              "        vertical-align: top;\n",
              "    }\n",
              "\n",
              "    .dataframe thead th {\n",
              "        text-align: right;\n",
              "    }\n",
              "</style>\n",
              "<table border=\"1\" class=\"dataframe\">\n",
              "  <thead>\n",
              "    <tr style=\"text-align: right;\">\n",
              "      <th></th>\n",
              "      <th>State</th>\n",
              "      <th>Confirmed</th>\n",
              "      <th>Recovered</th>\n",
              "      <th>Deaths</th>\n",
              "      <th>Active</th>\n",
              "      <th>Last_Updated_Time</th>\n",
              "      <th>Migrated_Other</th>\n",
              "      <th>State_code</th>\n",
              "      <th>Delta_Confirmed</th>\n",
              "      <th>Delta_Recovered</th>\n",
              "      <th>Delta_Deaths</th>\n",
              "      <th>State_Notes</th>\n",
              "      <th>Latitude</th>\n",
              "      <th>Longitude</th>\n",
              "    </tr>\n",
              "  </thead>\n",
              "  <tbody>\n",
              "    <tr>\n",
              "      <th>1</th>\n",
              "      <td>Maharashtra</td>\n",
              "      <td>515332</td>\n",
              "      <td>351710</td>\n",
              "      <td>17757</td>\n",
              "      <td>145558</td>\n",
              "      <td>09/08/2020 21:07:33</td>\n",
              "      <td>307</td>\n",
              "      <td>MH</td>\n",
              "      <td>0</td>\n",
              "      <td>0</td>\n",
              "      <td>0</td>\n",
              "      <td>307 cases are marked as non-covid deaths in MH...</td>\n",
              "      <td>19.531932</td>\n",
              "      <td>76.055457</td>\n",
              "    </tr>\n",
              "    <tr>\n",
              "      <th>2</th>\n",
              "      <td>Tamil Nadu</td>\n",
              "      <td>296901</td>\n",
              "      <td>238638</td>\n",
              "      <td>4927</td>\n",
              "      <td>53336</td>\n",
              "      <td>09/08/2020 19:07:32</td>\n",
              "      <td>0</td>\n",
              "      <td>TN</td>\n",
              "      <td>0</td>\n",
              "      <td>0</td>\n",
              "      <td>0</td>\n",
              "      <td>[July 22]: 444 backdated deceased entries adde...</td>\n",
              "      <td>10.909433</td>\n",
              "      <td>78.366535</td>\n",
              "    </tr>\n",
              "    <tr>\n",
              "      <th>3</th>\n",
              "      <td>Delhi</td>\n",
              "      <td>145427</td>\n",
              "      <td>130587</td>\n",
              "      <td>4111</td>\n",
              "      <td>10729</td>\n",
              "      <td>09/08/2020 17:07:32</td>\n",
              "      <td>0</td>\n",
              "      <td>DL</td>\n",
              "      <td>0</td>\n",
              "      <td>0</td>\n",
              "      <td>0</td>\n",
              "      <td>[July 14]: Value for the total tests conducted...</td>\n",
              "      <td>28.651718</td>\n",
              "      <td>77.221939</td>\n",
              "    </tr>\n",
              "    <tr>\n",
              "      <th>4</th>\n",
              "      <td>Karnataka</td>\n",
              "      <td>178087</td>\n",
              "      <td>93908</td>\n",
              "      <td>3198</td>\n",
              "      <td>80972</td>\n",
              "      <td>09/08/2020 20:17:41</td>\n",
              "      <td>9</td>\n",
              "      <td>KA</td>\n",
              "      <td>0</td>\n",
              "      <td>0</td>\n",
              "      <td>0</td>\n",
              "      <td>NaN</td>\n",
              "      <td>14.520390</td>\n",
              "      <td>75.722352</td>\n",
              "    </tr>\n",
              "    <tr>\n",
              "      <th>5</th>\n",
              "      <td>Andhra Pradesh</td>\n",
              "      <td>227860</td>\n",
              "      <td>138712</td>\n",
              "      <td>2036</td>\n",
              "      <td>87112</td>\n",
              "      <td>09/08/2020 19:53:37</td>\n",
              "      <td>0</td>\n",
              "      <td>AP</td>\n",
              "      <td>0</td>\n",
              "      <td>0</td>\n",
              "      <td>0</td>\n",
              "      <td>Total includes patients from other states and ...</td>\n",
              "      <td>15.924091</td>\n",
              "      <td>80.186381</td>\n",
              "    </tr>\n",
              "  </tbody>\n",
              "</table>\n",
              "</div>"
            ],
            "text/plain": [
              "            State  Confirmed  ...   Latitude  Longitude\n",
              "1     Maharashtra     515332  ...  19.531932  76.055457\n",
              "2      Tamil Nadu     296901  ...  10.909433  78.366535\n",
              "3           Delhi     145427  ...  28.651718  77.221939\n",
              "4       Karnataka     178087  ...  14.520390  75.722352\n",
              "5  Andhra Pradesh     227860  ...  15.924091  80.186381\n",
              "\n",
              "[5 rows x 14 columns]"
            ]
          },
          "metadata": {
            "tags": []
          },
          "execution_count": 6
        }
      ]
    },
    {
      "cell_type": "markdown",
      "metadata": {
        "id": "eEfwX2AmVl2u"
      },
      "source": [
        "Let's now create a map for India to show the state-wise total confirmed cases of coronavirus. Using the latitude and longitude values (which are numeric values with decimal), we can create circular markers on a map. For this, you need to use the `folium_map_with_circles()` function which takes the following inputs:\n",
        "\n",
        "- Name of the person who is creating the map which should be a text value enclosed within single-quotes (`''`) or double-quotes (`\"\"`).\n",
        "\n",
        "- Name of the country for which a map needs to be created. It should be a text value enclosed within single-quotes (`''`) or double-quotes (`\"\"`). For the map only three values are supported:\n",
        "\n",
        "  1. `'India'`\n",
        "\n",
        "  2. `'US'`\n",
        "\n",
        "  3. `'World'`\n",
        "\n",
        "- Width of the map (numeric value).\n",
        "\n",
        "- Height of the map (numeric value).\n",
        "\n",
        "- Left margin for the map (numeric value).\n",
        "\n",
        "- Top margin for the map (numeric value).\n",
        "\n",
        "- The background style of the line plot which should be a text value enclosed within single-quotes (`''`) or double-quotes (`\"\"`). Here is the list of most commonly used background styles:\n",
        "\n",
        "  1. `'OpenStreetMap'`\n",
        "\n",
        "  2. `'Stamen Terrain'`\n",
        "\n",
        "  3. `'Stamen Toner'`\n",
        "\n",
        "- Initial zoom in value (a numeric value)\n",
        "\n",
        "- Colour of the circles on the map should be a text value enclosed within single-quotes (`''`) or double-quotes (`\"\"`). Here's the list of most commonly used colours:\n",
        "\n",
        "  1. `'red'`\n",
        "  \n",
        "  2. `'blue'` \n",
        "  \n",
        "  3. `'magenta'`\n",
        "\n",
        "  4. `'yellow'`\n",
        "\n",
        "  5. `'green'`\n",
        "\n",
        "- Whether you want the map to have a minimap or not; `True` for **yes** and `False` for **no**.\n"
      ]
    },
    {
      "cell_type": "code",
      "metadata": {
        "id": "JWAxL5giKQuB",
        "colab": {
          "base_uri": "https://localhost:8080/",
          "height": 538
        },
        "outputId": "1124589d-6064-41d4-bbee-15c39fd5b22f"
      },
      "source": [
        "# Student Action: Create a map for India to show the state-wise total confirmed cases of coronavirus.\n",
        "folium_map_with_circles(\"Ganesh\",\"India\",1200,500, 8,4,'OpenStreetMap',2,\"blue\",True)"
      ],
      "execution_count": null,
      "outputs": [
        {
          "output_type": "execute_result",
          "data": {
            "text/html": [
              "<div style=\"width:100%;\"><div style=\"position:relative;width:100%;height:0;padding-bottom:60%;\"><span style=\"color:#565656\">Make this Notebook Trusted to load map: File -> Trust Notebook</span><iframe src=\"about:blank\" style=\"position:absolute;width:100%;height:100%;left:0;top:0;border:none !important;\" data-html=PCFET0NUWVBFIGh0bWw+CjxoZWFkPiAgICAKICAgIDxtZXRhIGh0dHAtZXF1aXY9ImNvbnRlbnQtdHlwZSIgY29udGVudD0idGV4dC9odG1sOyBjaGFyc2V0PVVURi04IiAvPgogICAgPHNjcmlwdD5MX1BSRUZFUl9DQU5WQVM9ZmFsc2U7IExfTk9fVE9VQ0g9ZmFsc2U7IExfRElTQUJMRV8zRD1mYWxzZTs8L3NjcmlwdD4KICAgIDxzY3JpcHQgc3JjPSJodHRwczovL2Nkbi5qc2RlbGl2ci5uZXQvbnBtL2xlYWZsZXRAMS40LjAvZGlzdC9sZWFmbGV0LmpzIj48L3NjcmlwdD4KICAgIDxzY3JpcHQgc3JjPSJodHRwczovL2NvZGUuanF1ZXJ5LmNvbS9qcXVlcnktMS4xMi40Lm1pbi5qcyI+PC9zY3JpcHQ+CiAgICA8c2NyaXB0IHNyYz0iaHR0cHM6Ly9tYXhjZG4uYm9vdHN0cmFwY2RuLmNvbS9ib290c3RyYXAvMy4yLjAvanMvYm9vdHN0cmFwLm1pbi5qcyI+PC9zY3JpcHQ+CiAgICA8c2NyaXB0IHNyYz0iaHR0cHM6Ly9jZG5qcy5jbG91ZGZsYXJlLmNvbS9hamF4L2xpYnMvTGVhZmxldC5hd2Vzb21lLW1hcmtlcnMvMi4wLjIvbGVhZmxldC5hd2Vzb21lLW1hcmtlcnMuanMiPjwvc2NyaXB0PgogICAgPGxpbmsgcmVsPSJzdHlsZXNoZWV0IiBocmVmPSJodHRwczovL2Nkbi5qc2RlbGl2ci5uZXQvbnBtL2xlYWZsZXRAMS40LjAvZGlzdC9sZWFmbGV0LmNzcyIvPgogICAgPGxpbmsgcmVsPSJzdHlsZXNoZWV0IiBocmVmPSJodHRwczovL21heGNkbi5ib290c3RyYXBjZG4uY29tL2Jvb3RzdHJhcC8zLjIuMC9jc3MvYm9vdHN0cmFwLm1pbi5jc3MiLz4KICAgIDxsaW5rIHJlbD0ic3R5bGVzaGVldCIgaHJlZj0iaHR0cHM6Ly9tYXhjZG4uYm9vdHN0cmFwY2RuLmNvbS9ib290c3RyYXAvMy4yLjAvY3NzL2Jvb3RzdHJhcC10aGVtZS5taW4uY3NzIi8+CiAgICA8bGluayByZWw9InN0eWxlc2hlZXQiIGhyZWY9Imh0dHBzOi8vbWF4Y2RuLmJvb3RzdHJhcGNkbi5jb20vZm9udC1hd2Vzb21lLzQuNi4zL2Nzcy9mb250LWF3ZXNvbWUubWluLmNzcyIvPgogICAgPGxpbmsgcmVsPSJzdHlsZXNoZWV0IiBocmVmPSJodHRwczovL2NkbmpzLmNsb3VkZmxhcmUuY29tL2FqYXgvbGlicy9MZWFmbGV0LmF3ZXNvbWUtbWFya2Vycy8yLjAuMi9sZWFmbGV0LmF3ZXNvbWUtbWFya2Vycy5jc3MiLz4KICAgIDxsaW5rIHJlbD0ic3R5bGVzaGVldCIgaHJlZj0iaHR0cHM6Ly9yYXdjZG4uZ2l0aGFjay5jb20vcHl0aG9uLXZpc3VhbGl6YXRpb24vZm9saXVtL21hc3Rlci9mb2xpdW0vdGVtcGxhdGVzL2xlYWZsZXQuYXdlc29tZS5yb3RhdGUuY3NzIi8+CiAgICA8c3R5bGU+aHRtbCwgYm9keSB7d2lkdGg6IDEwMCU7aGVpZ2h0OiAxMDAlO21hcmdpbjogMDtwYWRkaW5nOiAwO308L3N0eWxlPgogICAgPHN0eWxlPiNtYXAge3Bvc2l0aW9uOmFic29sdXRlO3RvcDowO2JvdHRvbTowO3JpZ2h0OjA7bGVmdDowO308L3N0eWxlPgogICAgCiAgICA8bWV0YSBuYW1lPSJ2aWV3cG9ydCIgY29udGVudD0id2lkdGg9ZGV2aWNlLXdpZHRoLAogICAgICAgIGluaXRpYWwtc2NhbGU9MS4wLCBtYXhpbXVtLXNjYWxlPTEuMCwgdXNlci1zY2FsYWJsZT1ubyIgLz4KICAgIDxzdHlsZT4jbWFwX2I0ZjQ5NTBhZGNiZjRjNmE4MjJlMmI4YmRiYjE5MTdmIHsKICAgICAgICBwb3NpdGlvbjogcmVsYXRpdmU7CiAgICAgICAgd2lkdGg6IDEyMDAuMHB4OwogICAgICAgIGhlaWdodDogNTAwLjBweDsKICAgICAgICBsZWZ0OiA4LjAlOwogICAgICAgIHRvcDogNC4wJTsKICAgICAgICB9CiAgICA8L3N0eWxlPgogICAgPHNjcmlwdCBzcmM9Imh0dHBzOi8vY2RuanMuY2xvdWRmbGFyZS5jb20vYWpheC9saWJzL2xlYWZsZXQtbWluaW1hcC8zLjYuMS9Db250cm9sLk1pbmlNYXAuanMiPjwvc2NyaXB0PgogICAgPGxpbmsgcmVsPSJzdHlsZXNoZWV0IiBocmVmPSJodHRwczovL2NkbmpzLmNsb3VkZmxhcmUuY29tL2FqYXgvbGlicy9sZWFmbGV0LW1pbmltYXAvMy42LjEvQ29udHJvbC5NaW5pTWFwLmNzcyIvPgogICAgCiAgICAgICAgICAgICAgICA8c3R5bGU+CiAgICAgICAgICAgICAgICAgICAgI3Njcm9sbF96b29tX3RvZ2dsZXJfMWY2N2FlNTRhZDI0NGQyNmJlNDAxZDI4NjlkYTY2NDggewogICAgICAgICAgICAgICAgICAgICAgICBwb3NpdGlvbjphYnNvbHV0ZTsKICAgICAgICAgICAgICAgICAgICAgICAgd2lkdGg6MzVweDsKICAgICAgICAgICAgICAgICAgICAgICAgYm90dG9tOjEwcHg7CiAgICAgICAgICAgICAgICAgICAgICAgIGhlaWdodDozNXB4OwogICAgICAgICAgICAgICAgICAgICAgICBsZWZ0OjEwcHg7CiAgICAgICAgICAgICAgICAgICAgICAgIGJhY2tncm91bmQtY29sb3I6I2ZmZjsKICAgICAgICAgICAgICAgICAgICAgICAgdGV4dC1hbGlnbjpjZW50ZXI7CiAgICAgICAgICAgICAgICAgICAgICAgIGxpbmUtaGVpZ2h0OjM1cHg7CiAgICAgICAgICAgICAgICAgICAgICAgIHZlcnRpY2FsLWFsaWduOiBtaWRkbGU7CiAgICAgICAgICAgICAgICAgICAgICAgIH0KICAgICAgICAgICAgICAgIDwvc3R5bGU+CiAgICAgICAgICAgIAogICAgPHNjcmlwdCBzcmM9Imh0dHBzOi8vY2RuanMuY2xvdWRmbGFyZS5jb20vYWpheC9saWJzL2xlYWZsZXQuZnVsbHNjcmVlbi8xLjQuMi9Db250cm9sLkZ1bGxTY3JlZW4ubWluLmpzIj48L3NjcmlwdD4KICAgIDxsaW5rIHJlbD0ic3R5bGVzaGVldCIgaHJlZj0iaHR0cHM6Ly9jZG5qcy5jbG91ZGZsYXJlLmNvbS9hamF4L2xpYnMvbGVhZmxldC5mdWxsc2NyZWVuLzEuNC4yL0NvbnRyb2wuRnVsbFNjcmVlbi5taW4uY3NzIi8+CjwvaGVhZD4KPGJvZHk+ICAgIAogICAgCiAgICAgICAgPGgyIGFsaWduPSJjZW50ZXIiIHN0eWxlPSJmb250LXNpemU6MjBweCI+PGI+Q29yb25hdmlydXMgVG90YWwgQ29uZmlybWVkIENhc2VzIGluIEluZGlhPC9iPjwvaDI+CiAgICAgICAgPGg0IGFsaWduPSJjZW50ZXIiIHN0eWxlPSJmb250LXNpemU6MTZweCI+PGk+Q3JlYXRlZCBieTwvaT4gR0FORVNIPC9oND4KICAgICAgICA8aDQgYWxpZ249ImNlbnRlciIgc3R5bGU9ImZvbnQtc2l6ZToxNnB4Ij48aT5Qb3dlcmVkIGJ5PC9pPgogICAgICAgICAgICA8YSBocmVmPSJodHRwczovL3d3dy53aGl0ZWhhdGpyLmNvbS8iPldoaXRlSGF0IEpyPC9hPgogICAgICAgIDwvaDQ+CiAgICAgICAgICAgICAKICAgIAogICAgPGRpdiBjbGFzcz0iZm9saXVtLW1hcCIgaWQ9Im1hcF9iNGY0OTUwYWRjYmY0YzZhODIyZTJiOGJkYmIxOTE3ZiIgPjwvZGl2PgogICAgCiAgICAgICAgICAgIDxpbWcgaWQ9InNjcm9sbF96b29tX3RvZ2dsZXJfMWY2N2FlNTRhZDI0NGQyNmJlNDAxZDI4NjlkYTY2NDgiIGFsdD0ic2Nyb2xsIgogICAgICAgICAgICAgICAgIHNyYz0iaHR0cHM6Ly9jZG5qcy5jbG91ZGZsYXJlLmNvbS9hamF4L2xpYnMvaW9uaWNvbnMvMi4wLjEvcG5nLzUxMi9hcnJvdy1tb3ZlLnBuZyIKICAgICAgICAgICAgICAgICBzdHlsZT0iei1pbmRleDogOTk5OTk5IgogICAgICAgICAgICAgICAgIG9uY2xpY2s9Im1hcF9iNGY0OTUwYWRjYmY0YzZhODIyZTJiOGJkYmIxOTE3Zi50b2dnbGVTY3JvbGwoKSI+CiAgICAgICAgICAgIDwvaW1nPgogICAgICAgICAgICAKPC9ib2R5Pgo8c2NyaXB0PiAgICAKICAgIAogICAgCiAgICAgICAgdmFyIGJvdW5kcyA9IG51bGw7CiAgICAKCiAgICB2YXIgbWFwX2I0ZjQ5NTBhZGNiZjRjNmE4MjJlMmI4YmRiYjE5MTdmID0gTC5tYXAoCiAgICAgICAgJ21hcF9iNGY0OTUwYWRjYmY0YzZhODIyZTJiOGJkYmIxOTE3ZicsIHsKICAgICAgICBjZW50ZXI6IFsyMi4zNTExMTQ4LCA3OC42Njc3NDI4XSwKICAgICAgICB6b29tOiAyLAogICAgICAgIG1heEJvdW5kczogYm91bmRzLAogICAgICAgIGxheWVyczogW10sCiAgICAgICAgd29ybGRDb3B5SnVtcDogZmFsc2UsCiAgICAgICAgY3JzOiBMLkNSUy5FUFNHMzg1NywKICAgICAgICB6b29tQ29udHJvbDogdHJ1ZSwKICAgICAgICB9KTsKCgogICAgCiAgICB2YXIgdGlsZV9sYXllcl8wNzA3MTFiNjY5Njc0YTY4YWZmZGI2ODI3NGE2Yzg1NCA9IEwudGlsZUxheWVyKAogICAgICAgICdodHRwczovL3tzfS50aWxlLm9wZW5zdHJlZXRtYXAub3JnL3t6fS97eH0ve3l9LnBuZycsCiAgICAgICAgewogICAgICAgICJhdHRyaWJ1dGlvbiI6IG51bGwsCiAgICAgICAgImRldGVjdFJldGluYSI6IGZhbHNlLAogICAgICAgICJtYXhOYXRpdmVab29tIjogMTgsCiAgICAgICAgIm1heFpvb20iOiAxOCwKICAgICAgICAibWluWm9vbSI6IDAsCiAgICAgICAgIm5vV3JhcCI6IGZhbHNlLAogICAgICAgICJvcGFjaXR5IjogMSwKICAgICAgICAic3ViZG9tYWlucyI6ICJhYmMiLAogICAgICAgICJ0bXMiOiBmYWxzZQp9KS5hZGRUbyhtYXBfYjRmNDk1MGFkY2JmNGM2YTgyMmUyYjhiZGJiMTkxN2YpOwogICAgCgogICAgICAgIHZhciB0aWxlX2xheWVyXzRjNTc2MDgwMGVkZDQ1NDc4MWE4MGY3ZTE2MjZmNDE1ID0gTC50aWxlTGF5ZXIoCiAgICAgICAgJ2h0dHBzOi8ve3N9LnRpbGUub3BlbnN0cmVldG1hcC5vcmcve3p9L3t4fS97eX0ucG5nJywKICAgICAgICB7CiAgICAgICAgImF0dHJpYnV0aW9uIjogbnVsbCwKICAgICAgICAiZGV0ZWN0UmV0aW5hIjogZmFsc2UsCiAgICAgICAgIm1heE5hdGl2ZVpvb20iOiAxOCwKICAgICAgICAibWF4Wm9vbSI6IDE4LAogICAgICAgICJtaW5ab29tIjogMCwKICAgICAgICAibm9XcmFwIjogZmFsc2UsCiAgICAgICAgIm9wYWNpdHkiOiAxLAogICAgICAgICJzdWJkb21haW5zIjogImFiYyIsCiAgICAgICAgInRtcyI6IGZhbHNlCn0gKTsKCiAgICAgICAgdmFyIG1pbmlfbWFwXzA0Y2I4NjBjMWQ4MDRlZDBhYzBlNjQ1NGQyM2UwZTQ3ID0gbmV3IEwuQ29udHJvbC5NaW5pTWFwKCB0aWxlX2xheWVyXzRjNTc2MDgwMGVkZDQ1NDc4MWE4MGY3ZTE2MjZmNDE1LAogICAgICAgICB7CiAgImF1dG9Ub2dnbGVEaXNwbGF5IjogZmFsc2UsCiAgImNlbnRlckZpeGVkIjogZmFsc2UsCiAgImNvbGxhcHNlZEhlaWdodCI6IDI1LAogICJjb2xsYXBzZWRXaWR0aCI6IDI1LAogICJoZWlnaHQiOiAxNTAsCiAgIm1pbmltaXplZCI6IGZhbHNlLAogICJwb3NpdGlvbiI6ICJib3R0b21yaWdodCIsCiAgInRvZ2dsZURpc3BsYXkiOiB0cnVlLAogICJ3aWR0aCI6IDE1MCwKICAiem9vbUFuaW1hdGlvbiI6IGZhbHNlLAogICJ6b29tTGV2ZWxGaXhlZCI6IG51bGwsCiAgInpvb21MZXZlbE9mZnNldCI6IC01Cn0pOwogICAgICAgIG1hcF9iNGY0OTUwYWRjYmY0YzZhODIyZTJiOGJkYmIxOTE3Zi5hZGRDb250cm9sKG1pbmlfbWFwXzA0Y2I4NjBjMWQ4MDRlZDBhYzBlNjQ1NGQyM2UwZTQ3KTsKCiAgICAgICAgCiAgICAKICAgICAgICAgICAgICAgICAgICBtYXBfYjRmNDk1MGFkY2JmNGM2YTgyMmUyYjhiZGJiMTkxN2Yuc2Nyb2xsRW5hYmxlZCA9IHRydWU7CgogICAgICAgICAgICAgICAgICAgIG1hcF9iNGY0OTUwYWRjYmY0YzZhODIyZTJiOGJkYmIxOTE3Zi50b2dnbGVTY3JvbGwgPSBmdW5jdGlvbigpIHsKICAgICAgICAgICAgICAgICAgICAgICAgaWYgKHRoaXMuc2Nyb2xsRW5hYmxlZCkgewogICAgICAgICAgICAgICAgICAgICAgICAgICAgdGhpcy5zY3JvbGxFbmFibGVkID0gZmFsc2U7CiAgICAgICAgICAgICAgICAgICAgICAgICAgICB0aGlzLnNjcm9sbFdoZWVsWm9vbS5kaXNhYmxlKCk7CiAgICAgICAgICAgICAgICAgICAgICAgICAgICB9CiAgICAgICAgICAgICAgICAgICAgICAgIGVsc2UgewogICAgICAgICAgICAgICAgICAgICAgICAgICAgdGhpcy5zY3JvbGxFbmFibGVkID0gdHJ1ZTsKICAgICAgICAgICAgICAgICAgICAgICAgICAgIHRoaXMuc2Nyb2xsV2hlZWxab29tLmVuYWJsZSgpOwogICAgICAgICAgICAgICAgICAgICAgICAgICAgfQogICAgICAgICAgICAgICAgICAgICAgICB9OwoKICAgICAgICAgICAgICAgICAgICBtYXBfYjRmNDk1MGFkY2JmNGM2YTgyMmUyYjhiZGJiMTkxN2YudG9nZ2xlU2Nyb2xsKCk7CiAgICAgICAgICAgIAogICAgCiAgICAgICAgICAgIEwuY29udHJvbC5mdWxsc2NyZWVuKHsKICAgICAgICAgICAgICAgIHBvc2l0aW9uOiAndG9wcmlnaHQnLAogICAgICAgICAgICAgICAgdGl0bGU6ICdGdWxsIFNjcmVlbicsCiAgICAgICAgICAgICAgICB0aXRsZUNhbmNlbDogJ0V4aXQgRnVsbCBTY3JlZW4nLAogICAgICAgICAgICAgICAgZm9yY2VTZXBhcmF0ZUJ1dHRvbjogZmFsc2UsCiAgICAgICAgICAgICAgICB9KS5hZGRUbyhtYXBfYjRmNDk1MGFkY2JmNGM2YTgyMmUyYjhiZGJiMTkxN2YpOwogICAgICAgICAgICBtYXBfYjRmNDk1MGFkY2JmNGM2YTgyMmUyYjhiZGJiMTkxN2Yub24oJ2VudGVyRnVsbHNjcmVlbicsIGZ1bmN0aW9uKCl7CiAgICAgICAgICAgICAgICBjb25zb2xlLmxvZygnZW50ZXJlZCBmdWxsc2NyZWVuJyk7CiAgICAgICAgICAgIH0pOwoKICAgICAgICAKICAgIAoKICAgICAgICAgICAgdmFyIGNpcmNsZV84ZTY5NjBkOWZmODU0MjhkYTNjNWU2ZmJhODUwYWExYiA9IEwuY2lyY2xlKAogICAgICAgICAgICAgICAgWzE5LjUzMTkzMiwgNzYuMDU1NDU2OF0sCiAgICAgICAgICAgICAgICB7CiAgImJ1YmJsaW5nTW91c2VFdmVudHMiOiB0cnVlLAogICJjb2xvciI6ICJibHVlIiwKICAiZGFzaEFycmF5IjogbnVsbCwKICAiZGFzaE9mZnNldCI6IG51bGwsCiAgImZpbGwiOiB0cnVlLAogICJmaWxsQ29sb3IiOiAiYmx1ZSIsCiAgImZpbGxPcGFjaXR5IjogMC4yLAogICJmaWxsUnVsZSI6ICJldmVub2RkIiwKICAibGluZUNhcCI6ICJyb3VuZCIsCiAgImxpbmVKb2luIjogInJvdW5kIiwKICAib3BhY2l0eSI6IDEuMCwKICAicmFkaXVzIjogNDEyMjY1LjYsCiAgInN0cm9rZSI6IHRydWUsCiAgIndlaWdodCI6IDMKfQogICAgICAgICAgICAgICAgKQogICAgICAgICAgICAgICAgLmFkZFRvKG1hcF9iNGY0OTUwYWRjYmY0YzZhODIyZTJiOGJkYmIxOTE3Zik7CiAgICAgICAgICAgIAogICAgCiAgICAgICAgICAgIHZhciBwb3B1cF81YWE5OTE1ZTNjYjM0NTA4OTM2MmE0ZjlmMTU5NjhiYiA9IEwucG9wdXAoe21heFdpZHRoOiAnMTAwJScKICAgICAgICAgICAgCiAgICAgICAgICAgIH0pOwoKICAgICAgICAgICAgCiAgICAgICAgICAgICAgICB2YXIgaHRtbF9iYmQ0NmE5ZjRkNmM0NmU2YWM4NTM0NDBlNTA1YjdlZSA9ICQoYDxkaXYgaWQ9Imh0bWxfYmJkNDZhOWY0ZDZjNDZlNmFjODUzNDQwZTUwNWI3ZWUiIHN0eWxlPSJ3aWR0aDogMTAwLjAlOyBoZWlnaHQ6IDEwMC4wJTsiPk1haGFyYXNodHJhICA1MTUzMzIgIG9uIDA5LzA4LzIwMjAgMjE6MDc6MzM8L2Rpdj5gKVswXTsKICAgICAgICAgICAgICAgIHBvcHVwXzVhYTk5MTVlM2NiMzQ1MDg5MzYyYTRmOWYxNTk2OGJiLnNldENvbnRlbnQoaHRtbF9iYmQ0NmE5ZjRkNmM0NmU2YWM4NTM0NDBlNTA1YjdlZSk7CiAgICAgICAgICAgIAoKICAgICAgICAgICAgY2lyY2xlXzhlNjk2MGQ5ZmY4NTQyOGRhM2M1ZTZmYmE4NTBhYTFiLmJpbmRQb3B1cChwb3B1cF81YWE5OTE1ZTNjYjM0NTA4OTM2MmE0ZjlmMTU5NjhiYikKICAgICAgICAgICAgOwoKICAgICAgICAgICAgCiAgICAgICAgCiAgICAKCiAgICAgICAgICAgIHZhciBjaXJjbGVfMTBkZDhmOTlhMDZiNDllMzhiZjQ2MDAzOTliZTU0OWQgPSBMLmNpcmNsZSgKICAgICAgICAgICAgICAgIFsxMC45MDk0MzM0LCA3OC4zNjY1MzQ3XSwKICAgICAgICAgICAgICAgIHsKICAiYnViYmxpbmdNb3VzZUV2ZW50cyI6IHRydWUsCiAgImNvbG9yIjogImJsdWUiLAogICJkYXNoQXJyYXkiOiBudWxsLAogICJkYXNoT2Zmc2V0IjogbnVsbCwKICAiZmlsbCI6IHRydWUsCiAgImZpbGxDb2xvciI6ICJibHVlIiwKICAiZmlsbE9wYWNpdHkiOiAwLjIsCiAgImZpbGxSdWxlIjogImV2ZW5vZGQiLAogICJsaW5lQ2FwIjogInJvdW5kIiwKICAibGluZUpvaW4iOiAicm91bmQiLAogICJvcGFjaXR5IjogMS4wLAogICJyYWRpdXMiOiAyMzc1MjAuOCwKICAic3Ryb2tlIjogdHJ1ZSwKICAid2VpZ2h0IjogMwp9CiAgICAgICAgICAgICAgICApCiAgICAgICAgICAgICAgICAuYWRkVG8obWFwX2I0ZjQ5NTBhZGNiZjRjNmE4MjJlMmI4YmRiYjE5MTdmKTsKICAgICAgICAgICAgCiAgICAKICAgICAgICAgICAgdmFyIHBvcHVwXzlkZGU5MDRmNzVhNzQ5MGU5NjMyN2VmNTVkMzZjYTViID0gTC5wb3B1cCh7bWF4V2lkdGg6ICcxMDAlJwogICAgICAgICAgICAKICAgICAgICAgICAgfSk7CgogICAgICAgICAgICAKICAgICAgICAgICAgICAgIHZhciBodG1sX2M2MWU0MDE5ZTNlZTQxNWVhNDMzZWQ4ZDExMWY1NTM5ID0gJChgPGRpdiBpZD0iaHRtbF9jNjFlNDAxOWUzZWU0MTVlYTQzM2VkOGQxMTFmNTUzOSIgc3R5bGU9IndpZHRoOiAxMDAuMCU7IGhlaWdodDogMTAwLjAlOyI+VGFtaWwgTmFkdSAgMjk2OTAxICBvbiAwOS8wOC8yMDIwIDE5OjA3OjMyPC9kaXY+YClbMF07CiAgICAgICAgICAgICAgICBwb3B1cF85ZGRlOTA0Zjc1YTc0OTBlOTYzMjdlZjU1ZDM2Y2E1Yi5zZXRDb250ZW50KGh0bWxfYzYxZTQwMTllM2VlNDE1ZWE0MzNlZDhkMTExZjU1MzkpOwogICAgICAgICAgICAKCiAgICAgICAgICAgIGNpcmNsZV8xMGRkOGY5OWEwNmI0OWUzOGJmNDYwMDM5OWJlNTQ5ZC5iaW5kUG9wdXAocG9wdXBfOWRkZTkwNGY3NWE3NDkwZTk2MzI3ZWY1NWQzNmNhNWIpCiAgICAgICAgICAgIDsKCiAgICAgICAgICAgIAogICAgICAgIAogICAgCgogICAgICAgICAgICB2YXIgY2lyY2xlXzJiOGM5MWFiN2NhMTRhZjI5MzBmY2NhZjE0ODJjMjJmID0gTC5jaXJjbGUoCiAgICAgICAgICAgICAgICBbMjguNjUxNzE3OCwgNzcuMjIxOTM4OF0sCiAgICAgICAgICAgICAgICB7CiAgImJ1YmJsaW5nTW91c2VFdmVudHMiOiB0cnVlLAogICJjb2xvciI6ICJibHVlIiwKICAiZGFzaEFycmF5IjogbnVsbCwKICAiZGFzaE9mZnNldCI6IG51bGwsCiAgImZpbGwiOiB0cnVlLAogICJmaWxsQ29sb3IiOiAiYmx1ZSIsCiAgImZpbGxPcGFjaXR5IjogMC4yLAogICJmaWxsUnVsZSI6ICJldmVub2RkIiwKICAibGluZUNhcCI6ICJyb3VuZCIsCiAgImxpbmVKb2luIjogInJvdW5kIiwKICAib3BhY2l0eSI6IDEuMCwKICAicmFkaXVzIjogMTE2MzQxLjYsCiAgInN0cm9rZSI6IHRydWUsCiAgIndlaWdodCI6IDMKfQogICAgICAgICAgICAgICAgKQogICAgICAgICAgICAgICAgLmFkZFRvKG1hcF9iNGY0OTUwYWRjYmY0YzZhODIyZTJiOGJkYmIxOTE3Zik7CiAgICAgICAgICAgIAogICAgCiAgICAgICAgICAgIHZhciBwb3B1cF9kNDBjZDI3YjdjNTg0MWVkOGQxM2QwOWIxNTYxZTUzNyA9IEwucG9wdXAoe21heFdpZHRoOiAnMTAwJScKICAgICAgICAgICAgCiAgICAgICAgICAgIH0pOwoKICAgICAgICAgICAgCiAgICAgICAgICAgICAgICB2YXIgaHRtbF9lMWM0NmUzNDIxMzU0MWY0YTA5YTdmOTkyOGQ0YjRkYiA9ICQoYDxkaXYgaWQ9Imh0bWxfZTFjNDZlMzQyMTM1NDFmNGEwOWE3Zjk5MjhkNGI0ZGIiIHN0eWxlPSJ3aWR0aDogMTAwLjAlOyBoZWlnaHQ6IDEwMC4wJTsiPkRlbGhpICAxNDU0MjcgIG9uIDA5LzA4LzIwMjAgMTc6MDc6MzI8L2Rpdj5gKVswXTsKICAgICAgICAgICAgICAgIHBvcHVwX2Q0MGNkMjdiN2M1ODQxZWQ4ZDEzZDA5YjE1NjFlNTM3LnNldENvbnRlbnQoaHRtbF9lMWM0NmUzNDIxMzU0MWY0YTA5YTdmOTkyOGQ0YjRkYik7CiAgICAgICAgICAgIAoKICAgICAgICAgICAgY2lyY2xlXzJiOGM5MWFiN2NhMTRhZjI5MzBmY2NhZjE0ODJjMjJmLmJpbmRQb3B1cChwb3B1cF9kNDBjZDI3YjdjNTg0MWVkOGQxM2QwOWIxNTYxZTUzNykKICAgICAgICAgICAgOwoKICAgICAgICAgICAgCiAgICAgICAgCiAgICAKCiAgICAgICAgICAgIHZhciBjaXJjbGVfODkyMDNlMGU3Mzk0NGE2NmJiNmIyOWFjOWFlYjYzMDQgPSBMLmNpcmNsZSgKICAgICAgICAgICAgICAgIFsxNC41MjAzODk2LCA3NS43MjIzNTIxXSwKICAgICAgICAgICAgICAgIHsKICAiYnViYmxpbmdNb3VzZUV2ZW50cyI6IHRydWUsCiAgImNvbG9yIjogImJsdWUiLAogICJkYXNoQXJyYXkiOiBudWxsLAogICJkYXNoT2Zmc2V0IjogbnVsbCwKICAiZmlsbCI6IHRydWUsCiAgImZpbGxDb2xvciI6ICJibHVlIiwKICAiZmlsbE9wYWNpdHkiOiAwLjIsCiAgImZpbGxSdWxlIjogImV2ZW5vZGQiLAogICJsaW5lQ2FwIjogInJvdW5kIiwKICAibGluZUpvaW4iOiAicm91bmQiLAogICJvcGFjaXR5IjogMS4wLAogICJyYWRpdXMiOiAxNDI0NjkuNiwKICAic3Ryb2tlIjogdHJ1ZSwKICAid2VpZ2h0IjogMwp9CiAgICAgICAgICAgICAgICApCiAgICAgICAgICAgICAgICAuYWRkVG8obWFwX2I0ZjQ5NTBhZGNiZjRjNmE4MjJlMmI4YmRiYjE5MTdmKTsKICAgICAgICAgICAgCiAgICAKICAgICAgICAgICAgdmFyIHBvcHVwXzVhN2Q5OTliNjdhYTQxNDk4OTg1ZDBkNzdjNzdmYTA4ID0gTC5wb3B1cCh7bWF4V2lkdGg6ICcxMDAlJwogICAgICAgICAgICAKICAgICAgICAgICAgfSk7CgogICAgICAgICAgICAKICAgICAgICAgICAgICAgIHZhciBodG1sX2ViYjU2NTViZGJjNDQ0NzA4Mjc1OTNiNzkyZmU5NTc1ID0gJChgPGRpdiBpZD0iaHRtbF9lYmI1NjU1YmRiYzQ0NDcwODI3NTkzYjc5MmZlOTU3NSIgc3R5bGU9IndpZHRoOiAxMDAuMCU7IGhlaWdodDogMTAwLjAlOyI+S2FybmF0YWthICAxNzgwODcgIG9uIDA5LzA4LzIwMjAgMjA6MTc6NDE8L2Rpdj5gKVswXTsKICAgICAgICAgICAgICAgIHBvcHVwXzVhN2Q5OTliNjdhYTQxNDk4OTg1ZDBkNzdjNzdmYTA4LnNldENvbnRlbnQoaHRtbF9lYmI1NjU1YmRiYzQ0NDcwODI3NTkzYjc5MmZlOTU3NSk7CiAgICAgICAgICAgIAoKICAgICAgICAgICAgY2lyY2xlXzg5MjAzZTBlNzM5NDRhNjZiYjZiMjlhYzlhZWI2MzA0LmJpbmRQb3B1cChwb3B1cF81YTdkOTk5YjY3YWE0MTQ5ODk4NWQwZDc3Yzc3ZmEwOCkKICAgICAgICAgICAgOwoKICAgICAgICAgICAgCiAgICAgICAgCiAgICAKCiAgICAgICAgICAgIHZhciBjaXJjbGVfMWY1YTAzODdmZDIzNGRkZmFiMDMwYzc4Mjc4YzI2YzcgPSBMLmNpcmNsZSgKICAgICAgICAgICAgICAgIFsxNS45MjQwOTA1LCA4MC4xODYzODA5XSwKICAgICAgICAgICAgICAgIHsKICAiYnViYmxpbmdNb3VzZUV2ZW50cyI6IHRydWUsCiAgImNvbG9yIjogImJsdWUiLAogICJkYXNoQXJyYXkiOiBudWxsLAogICJkYXNoT2Zmc2V0IjogbnVsbCwKICAiZmlsbCI6IHRydWUsCiAgImZpbGxDb2xvciI6ICJibHVlIiwKICAiZmlsbE9wYWNpdHkiOiAwLjIsCiAgImZpbGxSdWxlIjogImV2ZW5vZGQiLAogICJsaW5lQ2FwIjogInJvdW5kIiwKICAibGluZUpvaW4iOiAicm91bmQiLAogICJvcGFjaXR5IjogMS4wLAogICJyYWRpdXMiOiAxODIyODguMCwKICAic3Ryb2tlIjogdHJ1ZSwKICAid2VpZ2h0IjogMwp9CiAgICAgICAgICAgICAgICApCiAgICAgICAgICAgICAgICAuYWRkVG8obWFwX2I0ZjQ5NTBhZGNiZjRjNmE4MjJlMmI4YmRiYjE5MTdmKTsKICAgICAgICAgICAgCiAgICAKICAgICAgICAgICAgdmFyIHBvcHVwX2QwNWVjMzQwZGVhMjQ0M2ViNGI5NmI4YTI2NzZiNGFlID0gTC5wb3B1cCh7bWF4V2lkdGg6ICcxMDAlJwogICAgICAgICAgICAKICAgICAgICAgICAgfSk7CgogICAgICAgICAgICAKICAgICAgICAgICAgICAgIHZhciBodG1sXzQ4ZWZlZDg1OGVjYTQ5NzliZTg1NDBkOGI3MDA5NDcxID0gJChgPGRpdiBpZD0iaHRtbF80OGVmZWQ4NThlY2E0OTc5YmU4NTQwZDhiNzAwOTQ3MSIgc3R5bGU9IndpZHRoOiAxMDAuMCU7IGhlaWdodDogMTAwLjAlOyI+QW5kaHJhIFByYWRlc2ggIDIyNzg2MCAgb24gMDkvMDgvMjAyMCAxOTo1MzozNzwvZGl2PmApWzBdOwogICAgICAgICAgICAgICAgcG9wdXBfZDA1ZWMzNDBkZWEyNDQzZWI0Yjk2YjhhMjY3NmI0YWUuc2V0Q29udGVudChodG1sXzQ4ZWZlZDg1OGVjYTQ5NzliZTg1NDBkOGI3MDA5NDcxKTsKICAgICAgICAgICAgCgogICAgICAgICAgICBjaXJjbGVfMWY1YTAzODdmZDIzNGRkZmFiMDMwYzc4Mjc4YzI2YzcuYmluZFBvcHVwKHBvcHVwX2QwNWVjMzQwZGVhMjQ0M2ViNGI5NmI4YTI2NzZiNGFlKQogICAgICAgICAgICA7CgogICAgICAgICAgICAKICAgICAgICAKICAgIAoKICAgICAgICAgICAgdmFyIGNpcmNsZV82YWNmOWViYWQwYmU0NzdhYjA3NDA3ZTE2ZjNhMmNkNCA9IEwuY2lyY2xlKAogICAgICAgICAgICAgICAgWzI3LjEzMDMzNDQsIDgwLjg1OTY2Nl0sCiAgICAgICAgICAgICAgICB7CiAgImJ1YmJsaW5nTW91c2VFdmVudHMiOiB0cnVlLAogICJjb2xvciI6ICJibHVlIiwKICAiZGFzaEFycmF5IjogbnVsbCwKICAiZGFzaE9mZnNldCI6IG51bGwsCiAgImZpbGwiOiB0cnVlLAogICJmaWxsQ29sb3IiOiAiYmx1ZSIsCiAgImZpbGxPcGFjaXR5IjogMC4yLAogICJmaWxsUnVsZSI6ICJldmVub2RkIiwKICAibGluZUNhcCI6ICJyb3VuZCIsCiAgImxpbmVKb2luIjogInJvdW5kIiwKICAib3BhY2l0eSI6IDEuMCwKICAicmFkaXVzIjogOTgwODcuMiwKICAic3Ryb2tlIjogdHJ1ZSwKICAid2VpZ2h0IjogMwp9CiAgICAgICAgICAgICAgICApCiAgICAgICAgICAgICAgICAuYWRkVG8obWFwX2I0ZjQ5NTBhZGNiZjRjNmE4MjJlMmI4YmRiYjE5MTdmKTsKICAgICAgICAgICAgCiAgICAKICAgICAgICAgICAgdmFyIHBvcHVwXzQ1MTFjZDI1NjZiMzQyOTQ4YjBkZGNmYjYxYWQzYjQ4ID0gTC5wb3B1cCh7bWF4V2lkdGg6ICcxMDAlJwogICAgICAgICAgICAKICAgICAgICAgICAgfSk7CgogICAgICAgICAgICAKICAgICAgICAgICAgICAgIHZhciBodG1sXzg2YjMzMzNlNWI1YTRmMzFhNTk1MWM1YWRkMjBhY2ZiID0gJChgPGRpdiBpZD0iaHRtbF84NmIzMzMzZTViNWE0ZjMxYTU5NTFjNWFkZDIwYWNmYiIgc3R5bGU9IndpZHRoOiAxMDAuMCU7IGhlaWdodDogMTAwLjAlOyI+VXR0YXIgUHJhZGVzaCAgMTIyNjA5ICBvbiAwOS8wOC8yMDIwIDE3OjQ0OjMzPC9kaXY+YClbMF07CiAgICAgICAgICAgICAgICBwb3B1cF80NTExY2QyNTY2YjM0Mjk0OGIwZGRjZmI2MWFkM2I0OC5zZXRDb250ZW50KGh0bWxfODZiMzMzM2U1YjVhNGYzMWE1OTUxYzVhZGQyMGFjZmIpOwogICAgICAgICAgICAKCiAgICAgICAgICAgIGNpcmNsZV82YWNmOWViYWQwYmU0NzdhYjA3NDA3ZTE2ZjNhMmNkNC5iaW5kUG9wdXAocG9wdXBfNDUxMWNkMjU2NmIzNDI5NDhiMGRkY2ZiNjFhZDNiNDgpCiAgICAgICAgICAgIDsKCiAgICAgICAgICAgIAogICAgICAgIAogICAgCgogICAgICAgICAgICB2YXIgY2lyY2xlX2IyYmE0NjA1YzE5MDQ4MGQ5YzlmZTI2Y2NlZDJhMDA3ID0gTC5jaXJjbGUoCiAgICAgICAgICAgICAgICBbMjIuMzg1MDAwOCwgNzEuNzQ1MjYzM10sCiAgICAgICAgICAgICAgICB7CiAgImJ1YmJsaW5nTW91c2VFdmVudHMiOiB0cnVlLAogICJjb2xvciI6ICJibHVlIiwKICAiZGFzaEFycmF5IjogbnVsbCwKICAiZGFzaE9mZnNldCI6IG51bGwsCiAgImZpbGwiOiB0cnVlLAogICJmaWxsQ29sb3IiOiAiYmx1ZSIsCiAgImZpbGxPcGFjaXR5IjogMC4yLAogICJmaWxsUnVsZSI6ICJldmVub2RkIiwKICAibGluZUNhcCI6ICJyb3VuZCIsCiAgImxpbmVKb2luIjogInJvdW5kIiwKICAib3BhY2l0eSI6IDEuMCwKICAicmFkaXVzIjogNTY4NTEuMiwKICAic3Ryb2tlIjogdHJ1ZSwKICAid2VpZ2h0IjogMwp9CiAgICAgICAgICAgICAgICApCiAgICAgICAgICAgICAgICAuYWRkVG8obWFwX2I0ZjQ5NTBhZGNiZjRjNmE4MjJlMmI4YmRiYjE5MTdmKTsKICAgICAgICAgICAgCiAgICAKICAgICAgICAgICAgdmFyIHBvcHVwXzY3ZThkZDBiMTgzNjRkZTU5NWVjNjkzNDlkNWNlNGNjID0gTC5wb3B1cCh7bWF4V2lkdGg6ICcxMDAlJwogICAgICAgICAgICAKICAgICAgICAgICAgfSk7CgogICAgICAgICAgICAKICAgICAgICAgICAgICAgIHZhciBodG1sXzVlM2RiOTYwYTU2NDQxNzc4NTcxZDI0ZThhNTljMGE2ID0gJChgPGRpdiBpZD0iaHRtbF81ZTNkYjk2MGE1NjQ0MTc3ODU3MWQyNGU4YTU5YzBhNiIgc3R5bGU9IndpZHRoOiAxMDAuMCU7IGhlaWdodDogMTAwLjAlOyI+R3VqYXJhdCAgNzEwNjQgIG9uIDA5LzA4LzIwMjAgMjA6MTE6Mzg8L2Rpdj5gKVswXTsKICAgICAgICAgICAgICAgIHBvcHVwXzY3ZThkZDBiMTgzNjRkZTU5NWVjNjkzNDlkNWNlNGNjLnNldENvbnRlbnQoaHRtbF81ZTNkYjk2MGE1NjQ0MTc3ODU3MWQyNGU4YTU5YzBhNik7CiAgICAgICAgICAgIAoKICAgICAgICAgICAgY2lyY2xlX2IyYmE0NjA1YzE5MDQ4MGQ5YzlmZTI2Y2NlZDJhMDA3LmJpbmRQb3B1cChwb3B1cF82N2U4ZGQwYjE4MzY0ZGU1OTVlYzY5MzQ5ZDVjZTRjYykKICAgICAgICAgICAgOwoKICAgICAgICAgICAgCiAgICAgICAgCiAgICAKCiAgICAgICAgICAgIHZhciBjaXJjbGVfZjBjZWU2NWYzMzAxNDNiOWFmMmZlYzg3ZjNjZWU0ZWEgPSBMLmNpcmNsZSgKICAgICAgICAgICAgICAgIFsyMi45OTY0OTQ4LCA4Ny42ODU1ODgyXSwKICAgICAgICAgICAgICAgIHsKICAiYnViYmxpbmdNb3VzZUV2ZW50cyI6IHRydWUsCiAgImNvbG9yIjogImJsdWUiLAogICJkYXNoQXJyYXkiOiBudWxsLAogICJkYXNoT2Zmc2V0IjogbnVsbCwKICAiZmlsbCI6IHRydWUsCiAgImZpbGxDb2xvciI6ICJibHVlIiwKICAiZmlsbE9wYWNpdHkiOiAwLjIsCiAgImZpbGxSdWxlIjogImV2ZW5vZGQiLAogICJsaW5lQ2FwIjogInJvdW5kIiwKICAibGluZUpvaW4iOiAicm91bmQiLAogICJvcGFjaXR5IjogMS4wLAogICJyYWRpdXMiOiA3NjQ0My4yLAogICJzdHJva2UiOiB0cnVlLAogICJ3ZWlnaHQiOiAzCn0KICAgICAgICAgICAgICAgICkKICAgICAgICAgICAgICAgIC5hZGRUbyhtYXBfYjRmNDk1MGFkY2JmNGM2YTgyMmUyYjhiZGJiMTkxN2YpOwogICAgICAgICAgICAKICAgIAogICAgICAgICAgICB2YXIgcG9wdXBfYzMyZDVkYWE0NmYyNGNiMWI2YWFlNDQ5ODE2NWYwODIgPSBMLnBvcHVwKHttYXhXaWR0aDogJzEwMCUnCiAgICAgICAgICAgIAogICAgICAgICAgICB9KTsKCiAgICAgICAgICAgIAogICAgICAgICAgICAgICAgdmFyIGh0bWxfMjY3OWI4ZmZhOTgyNDIzMmE5ZDk4ZDllZWFhYTdjNWMgPSAkKGA8ZGl2IGlkPSJodG1sXzI2NzliOGZmYTk4MjQyMzJhOWQ5OGQ5ZWVhYWE3YzVjIiBzdHlsZT0id2lkdGg6IDEwMC4wJTsgaGVpZ2h0OiAxMDAuMCU7Ij5XZXN0IEJlbmdhbCAgOTU1NTQgIG9uIDA5LzA4LzIwMjAgMjA6Mjc6MzQ8L2Rpdj5gKVswXTsKICAgICAgICAgICAgICAgIHBvcHVwX2MzMmQ1ZGFhNDZmMjRjYjFiNmFhZTQ0OTgxNjVmMDgyLnNldENvbnRlbnQoaHRtbF8yNjc5YjhmZmE5ODI0MjMyYTlkOThkOWVlYWFhN2M1Yyk7CiAgICAgICAgICAgIAoKICAgICAgICAgICAgY2lyY2xlX2YwY2VlNjVmMzMwMTQzYjlhZjJmZWM4N2YzY2VlNGVhLmJpbmRQb3B1cChwb3B1cF9jMzJkNWRhYTQ2ZjI0Y2IxYjZhYWU0NDk4MTY1ZjA4MikKICAgICAgICAgICAgOwoKICAgICAgICAgICAgCiAgICAgICAgCiAgICAKCiAgICAgICAgICAgIHZhciBjaXJjbGVfNjQ2ZDljNjE5OTA3NGJmYWE1MDY5YzQzNzNhODMzZTYgPSBMLmNpcmNsZSgKICAgICAgICAgICAgICAgIFsxNy44NDk1OTE5LCA3OS4xMTUxNjYzXSwKICAgICAgICAgICAgICAgIHsKICAiYnViYmxpbmdNb3VzZUV2ZW50cyI6IHRydWUsCiAgImNvbG9yIjogImJsdWUiLAogICJkYXNoQXJyYXkiOiBudWxsLAogICJkYXNoT2Zmc2V0IjogbnVsbCwKICAiZmlsbCI6IHRydWUsCiAgImZpbGxDb2xvciI6ICJibHVlIiwKICAiZmlsbE9wYWNpdHkiOiAwLjIsCiAgImZpbGxSdWxlIjogImV2ZW5vZGQiLAogICJsaW5lQ2FwIjogInJvdW5kIiwKICAibGluZUpvaW4iOiAicm91bmQiLAogICJvcGFjaXR5IjogMS4wLAogICJyYWRpdXMiOiA2NDYwMC44LAogICJzdHJva2UiOiB0cnVlLAogICJ3ZWlnaHQiOiAzCn0KICAgICAgICAgICAgICAgICkKICAgICAgICAgICAgICAgIC5hZGRUbyhtYXBfYjRmNDk1MGFkY2JmNGM2YTgyMmUyYjhiZGJiMTkxN2YpOwogICAgICAgICAgICAKICAgIAogICAgICAgICAgICB2YXIgcG9wdXBfNGY2MTU1OTE3ZjBmNDI1YmE5NGFiODI1ZDYzMzFlZmMgPSBMLnBvcHVwKHttYXhXaWR0aDogJzEwMCUnCiAgICAgICAgICAgIAogICAgICAgICAgICB9KTsKCiAgICAgICAgICAgIAogICAgICAgICAgICAgICAgdmFyIGh0bWxfYWVjMWE2YTIxMTRmNGU4YTk2Y2NjZTBiMDcyNzljNTggPSAkKGA8ZGl2IGlkPSJodG1sX2FlYzFhNmEyMTE0ZjRlOGE5NmNjY2UwYjA3Mjc5YzU4IiBzdHlsZT0id2lkdGg6IDEwMC4wJTsgaGVpZ2h0OiAxMDAuMCU7Ij5UZWxhbmdhbmEgIDgwNzUxICBvbiAxMC8wOC8yMDIwIDA5OjQzOjM3PC9kaXY+YClbMF07CiAgICAgICAgICAgICAgICBwb3B1cF80ZjYxNTU5MTdmMGY0MjViYTk0YWI4MjVkNjMzMWVmYy5zZXRDb250ZW50KGh0bWxfYWVjMWE2YTIxMTRmNGU4YTk2Y2NjZTBiMDcyNzljNTgpOwogICAgICAgICAgICAKCiAgICAgICAgICAgIGNpcmNsZV82NDZkOWM2MTk5MDc0YmZhYTUwNjljNDM3M2E4MzNlNi5iaW5kUG9wdXAocG9wdXBfNGY2MTU1OTE3ZjBmNDI1YmE5NGFiODI1ZDYzMzFlZmMpCiAgICAgICAgICAgIDsKCiAgICAgICAgICAgIAogICAgICAgIAogICAgCgogICAgICAgICAgICB2YXIgY2lyY2xlXzc3NDRlN2Y5NGI5NzRlODk5MmE2NmNhMGIzMDU5OWZhID0gTC5jaXJjbGUoCiAgICAgICAgICAgICAgICBbMjYuODEwNTc3NywgNzMuNzY4NDU0OV0sCiAgICAgICAgICAgICAgICB7CiAgImJ1YmJsaW5nTW91c2VFdmVudHMiOiB0cnVlLAogICJjb2xvciI6ICJibHVlIiwKICAiZGFzaEFycmF5IjogbnVsbCwKICAiZGFzaE9mZnNldCI6IG51bGwsCiAgImZpbGwiOiB0cnVlLAogICJmaWxsQ29sb3IiOiAiYmx1ZSIsCiAgImZpbGxPcGFjaXR5IjogMC4yLAogICJmaWxsUnVsZSI6ICJldmVub2RkIiwKICAibGluZUNhcCI6ICJyb3VuZCIsCiAgImxpbmVKb2luIjogInJvdW5kIiwKICAib3BhY2l0eSI6IDEuMCwKICAicmFkaXVzIjogNDI0NzYuMCwKICAic3Ryb2tlIjogdHJ1ZSwKICAid2VpZ2h0IjogMwp9CiAgICAgICAgICAgICAgICApCiAgICAgICAgICAgICAgICAuYWRkVG8obWFwX2I0ZjQ5NTBhZGNiZjRjNmE4MjJlMmI4YmRiYjE5MTdmKTsKICAgICAgICAgICAgCiAgICAKICAgICAgICAgICAgdmFyIHBvcHVwX2IyNmVhMzgyMWJhYzQ3ZWFhMDExOWRkMTIzMTcxYjE4ID0gTC5wb3B1cCh7bWF4V2lkdGg6ICcxMDAlJwogICAgICAgICAgICAKICAgICAgICAgICAgfSk7CgogICAgICAgICAgICAKICAgICAgICAgICAgICAgIHZhciBodG1sXzg1YjZjMzFjZmFkMTQ5NjY4NjY0NTM3MmQ0YzIwOTI4ID0gJChgPGRpdiBpZD0iaHRtbF84NWI2YzMxY2ZhZDE0OTY2ODY2NDUzNzJkNGMyMDkyOCIgc3R5bGU9IndpZHRoOiAxMDAuMCU7IGhlaWdodDogMTAwLjAlOyI+UmFqYXN0aGFuICA1MzA5NSAgb24gMTAvMDgvMjAyMCAxMTo0OTozNjwvZGl2PmApWzBdOwogICAgICAgICAgICAgICAgcG9wdXBfYjI2ZWEzODIxYmFjNDdlYWEwMTE5ZGQxMjMxNzFiMTguc2V0Q29udGVudChodG1sXzg1YjZjMzFjZmFkMTQ5NjY4NjY0NTM3MmQ0YzIwOTI4KTsKICAgICAgICAgICAgCgogICAgICAgICAgICBjaXJjbGVfNzc0NGU3Zjk0Yjk3NGU4OTkyYTY2Y2EwYjMwNTk5ZmEuYmluZFBvcHVwKHBvcHVwX2IyNmVhMzgyMWJhYzQ3ZWFhMDExOWRkMTIzMTcxYjE4KQogICAgICAgICAgICA7CgogICAgICAgICAgICAKICAgICAgICAKICAgIAoKICAgICAgICAgICAgdmFyIGNpcmNsZV9lYWJkZWRmYzVkNjk0OThiYWMwZGJkZjc1ZDI5MDA2MiA9IEwuY2lyY2xlKAogICAgICAgICAgICAgICAgWzI1LjY0NDA4NDUsIDg1LjkwNjUwOF0sCiAgICAgICAgICAgICAgICB7CiAgImJ1YmJsaW5nTW91c2VFdmVudHMiOiB0cnVlLAogICJjb2xvciI6ICJibHVlIiwKICAiZGFzaEFycmF5IjogbnVsbCwKICAiZGFzaE9mZnNldCI6IG51bGwsCiAgImZpbGwiOiB0cnVlLAogICJmaWxsQ29sb3IiOiAiYmx1ZSIsCiAgImZpbGxPcGFjaXR5IjogMC4yLAogICJmaWxsUnVsZSI6ICJldmVub2RkIiwKICAibGluZUNhcCI6ICJyb3VuZCIsCiAgImxpbmVKb2luIjogInJvdW5kIiwKICAib3BhY2l0eSI6IDEuMCwKICAicmFkaXVzIjogNjM3NzYuMCwKICAic3Ryb2tlIjogdHJ1ZSwKICAid2VpZ2h0IjogMwp9CiAgICAgICAgICAgICAgICApCiAgICAgICAgICAgICAgICAuYWRkVG8obWFwX2I0ZjQ5NTBhZGNiZjRjNmE4MjJlMmI4YmRiYjE5MTdmKTsKICAgICAgICAgICAgCiAgICAKICAgICAgICAgICAgdmFyIHBvcHVwXzkzOTYzMjc5MDY2MTQ5MzA5ZDE0OTAyNzIzZWNmYWZjID0gTC5wb3B1cCh7bWF4V2lkdGg6ICcxMDAlJwogICAgICAgICAgICAKICAgICAgICAgICAgfSk7CgogICAgICAgICAgICAKICAgICAgICAgICAgICAgIHZhciBodG1sX2FjMTc3NjBiMTA2ZTRlZWM4NWFiMDIwZTgxZmQ2ZGNlID0gJChgPGRpdiBpZD0iaHRtbF9hYzE3NzYwYjEwNmU0ZWVjODVhYjAyMGU4MWZkNmRjZSIgc3R5bGU9IndpZHRoOiAxMDAuMCU7IGhlaWdodDogMTAwLjAlOyI+QmloYXIgIDc5NzIwICBvbiAwOS8wOC8yMDIwIDE3OjU4OjMzPC9kaXY+YClbMF07CiAgICAgICAgICAgICAgICBwb3B1cF85Mzk2MzI3OTA2NjE0OTMwOWQxNDkwMjcyM2VjZmFmYy5zZXRDb250ZW50KGh0bWxfYWMxNzc2MGIxMDZlNGVlYzg1YWIwMjBlODFmZDZkY2UpOwogICAgICAgICAgICAKCiAgICAgICAgICAgIGNpcmNsZV9lYWJkZWRmYzVkNjk0OThiYWMwZGJkZjc1ZDI5MDA2Mi5iaW5kUG9wdXAocG9wdXBfOTM5NjMyNzkwNjYxNDkzMDlkMTQ5MDI3MjNlY2ZhZmMpCiAgICAgICAgICAgIDsKCiAgICAgICAgICAgIAogICAgICAgIAogICAgCgogICAgICAgICAgICB2YXIgY2lyY2xlXzk4Y2Y5N2ExYjQxOTQyMTNiYzBiNDZjYzhlODUxODVkID0gTC5jaXJjbGUoCiAgICAgICAgICAgICAgICBbMjkuMCwgNzYuMF0sCiAgICAgICAgICAgICAgICB7CiAgImJ1YmJsaW5nTW91c2VFdmVudHMiOiB0cnVlLAogICJjb2xvciI6ICJibHVlIiwKICAiZGFzaEFycmF5IjogbnVsbCwKICAiZGFzaE9mZnNldCI6IG51bGwsCiAgImZpbGwiOiB0cnVlLAogICJmaWxsQ29sb3IiOiAiYmx1ZSIsCiAgImZpbGxPcGFjaXR5IjogMC4yLAogICJmaWxsUnVsZSI6ICJldmVub2RkIiwKICAibGluZUNhcCI6ICJyb3VuZCIsCiAgImxpbmVKb2luIjogInJvdW5kIiwKICAib3BhY2l0eSI6IDEuMCwKICAicmFkaXVzIjogMzMzMDguMCwKICAic3Ryb2tlIjogdHJ1ZSwKICAid2VpZ2h0IjogMwp9CiAgICAgICAgICAgICAgICApCiAgICAgICAgICAgICAgICAuYWRkVG8obWFwX2I0ZjQ5NTBhZGNiZjRjNmE4MjJlMmI4YmRiYjE5MTdmKTsKICAgICAgICAgICAgCiAgICAKICAgICAgICAgICAgdmFyIHBvcHVwXzI1YmQzNjU1MGJmMDQ2ODdiMmExMDA5NGUzZWU0YWEyID0gTC5wb3B1cCh7bWF4V2lkdGg6ICcxMDAlJwogICAgICAgICAgICAKICAgICAgICAgICAgfSk7CgogICAgICAgICAgICAKICAgICAgICAgICAgICAgIHZhciBodG1sXzBiYWI2ODBjMjU2YTQ3NzBiYzAyNDBlNDk1YmEyYTE3ID0gJChgPGRpdiBpZD0iaHRtbF8wYmFiNjgwYzI1NmE0NzcwYmMwMjQwZTQ5NWJhMmExNyIgc3R5bGU9IndpZHRoOiAxMDAuMCU7IGhlaWdodDogMTAwLjAlOyI+SGFyeWFuYSAgNDE2MzUgIG9uIDA5LzA4LzIwMjAgMjA6MTc6NDU8L2Rpdj5gKVswXTsKICAgICAgICAgICAgICAgIHBvcHVwXzI1YmQzNjU1MGJmMDQ2ODdiMmExMDA5NGUzZWU0YWEyLnNldENvbnRlbnQoaHRtbF8wYmFiNjgwYzI1NmE0NzcwYmMwMjQwZTQ5NWJhMmExNyk7CiAgICAgICAgICAgIAoKICAgICAgICAgICAgY2lyY2xlXzk4Y2Y5N2ExYjQxOTQyMTNiYzBiNDZjYzhlODUxODVkLmJpbmRQb3B1cChwb3B1cF8yNWJkMzY1NTBiZjA0Njg3YjJhMTAwOTRlM2VlNGFhMikKICAgICAgICAgICAgOwoKICAgICAgICAgICAgCiAgICAgICAgCiAgICAKCiAgICAgICAgICAgIHZhciBjaXJjbGVfNDNiZDk3YjQyZmIwNDg1N2FlMzU3ODBlNTE4MDU5MGMgPSBMLmNpcmNsZSgKICAgICAgICAgICAgICAgIFsyNi40MDczODQxLCA5My4yNTUxMzAzXSwKICAgICAgICAgICAgICAgIHsKICAiYnViYmxpbmdNb3VzZUV2ZW50cyI6IHRydWUsCiAgImNvbG9yIjogImJsdWUiLAogICJkYXNoQXJyYXkiOiBudWxsLAogICJkYXNoT2Zmc2V0IjogbnVsbCwKICAiZmlsbCI6IHRydWUsCiAgImZpbGxDb2xvciI6ICJibHVlIiwKICAiZmlsbE9wYWNpdHkiOiAwLjIsCiAgImZpbGxSdWxlIjogImV2ZW5vZGQiLAogICJsaW5lQ2FwIjogInJvdW5kIiwKICAibGluZUpvaW4iOiAicm91bmQiLAogICJvcGFjaXR5IjogMS4wLAogICJyYWRpdXMiOiA0NzA3MC40LAogICJzdHJva2UiOiB0cnVlLAogICJ3ZWlnaHQiOiAzCn0KICAgICAgICAgICAgICAgICkKICAgICAgICAgICAgICAgIC5hZGRUbyhtYXBfYjRmNDk1MGFkY2JmNGM2YTgyMmUyYjhiZGJiMTkxN2YpOwogICAgICAgICAgICAKICAgIAogICAgICAgICAgICB2YXIgcG9wdXBfYmJlZmJmZjZkYzY1NDlmM2JhMWM1YzE3NTU0MTliMzcgPSBMLnBvcHVwKHttYXhXaWR0aDogJzEwMCUnCiAgICAgICAgICAgIAogICAgICAgICAgICB9KTsKCiAgICAgICAgICAgIAogICAgICAgICAgICAgICAgdmFyIGh0bWxfOTk2MjZlYThhNzE4NGJmYjkyZTJiMmMyNTc5Y2IzNTYgPSAkKGA8ZGl2IGlkPSJodG1sXzk5NjI2ZWE4YTcxODRiZmI5MmUyYjJjMjU3OWNiMzU2IiBzdHlsZT0id2lkdGg6IDEwMC4wJTsgaGVpZ2h0OiAxMDAuMCU7Ij5Bc3NhbSAgNTg4MzggIG9uIDA5LzA4LzIwMjAgMjM6Mjc6MzQ8L2Rpdj5gKVswXTsKICAgICAgICAgICAgICAgIHBvcHVwX2JiZWZiZmY2ZGM2NTQ5ZjNiYTFjNWMxNzU1NDE5YjM3LnNldENvbnRlbnQoaHRtbF85OTYyNmVhOGE3MTg0YmZiOTJlMmIyYzI1NzljYjM1Nik7CiAgICAgICAgICAgIAoKICAgICAgICAgICAgY2lyY2xlXzQzYmQ5N2I0MmZiMDQ4NTdhZTM1NzgwZTUxODA1OTBjLmJpbmRQb3B1cChwb3B1cF9iYmVmYmZmNmRjNjU0OWYzYmExYzVjMTc1NTQxOWIzNykKICAgICAgICAgICAgOwoKICAgICAgICAgICAgCiAgICAgICAgCiAgICAKCiAgICAgICAgICAgIHZhciBjaXJjbGVfMWEwM2Q4NjVkOGUwNGFjM2IyMWQxYThkNjljMmE0M2IgPSBMLmNpcmNsZSgKICAgICAgICAgICAgICAgIFsyMy45Njk5MjgyLCA3OS4zOTQ4Njk1NDYyNTIyNV0sCiAgICAgICAgICAgICAgICB7CiAgImJ1YmJsaW5nTW91c2VFdmVudHMiOiB0cnVlLAogICJjb2xvciI6ICJibHVlIiwKICAiZGFzaEFycmF5IjogbnVsbCwKICAiZGFzaE9mZnNldCI6IG51bGwsCiAgImZpbGwiOiB0cnVlLAogICJmaWxsQ29sb3IiOiAiYmx1ZSIsCiAgImZpbGxPcGFjaXR5IjogMC4yLAogICJmaWxsUnVsZSI6ICJldmVub2RkIiwKICAibGluZUNhcCI6ICJyb3VuZCIsCiAgImxpbmVKb2luIjogInJvdW5kIiwKICAib3BhY2l0eSI6IDEuMCwKICAicmFkaXVzIjogMzEyMjAuMCwKICAic3Ryb2tlIjogdHJ1ZSwKICAid2VpZ2h0IjogMwp9CiAgICAgICAgICAgICAgICApCiAgICAgICAgICAgICAgICAuYWRkVG8obWFwX2I0ZjQ5NTBhZGNiZjRjNmE4MjJlMmI4YmRiYjE5MTdmKTsKICAgICAgICAgICAgCiAgICAKICAgICAgICAgICAgdmFyIHBvcHVwXzM4MGY5ZjE5YWM3ZTRlMTc4ODY2YjY0ODViMDc2MWViID0gTC5wb3B1cCh7bWF4V2lkdGg6ICcxMDAlJwogICAgICAgICAgICAKICAgICAgICAgICAgfSk7CgogICAgICAgICAgICAKICAgICAgICAgICAgICAgIHZhciBodG1sXzA5MWU4OTBmNDJkMDQ5NDQ5NGU5NDRjMzc2Y2VhZmMwID0gJChgPGRpdiBpZD0iaHRtbF8wOTFlODkwZjQyZDA0OTQ0OTRlOTQ0YzM3NmNlYWZjMCIgc3R5bGU9IndpZHRoOiAxMDAuMCU7IGhlaWdodDogMTAwLjAlOyI+TWFkaHlhIFByYWRlc2ggIDM5MDI1ICBvbiAwOS8wOC8yMDIwIDE5OjQyOjM3PC9kaXY+YClbMF07CiAgICAgICAgICAgICAgICBwb3B1cF8zODBmOWYxOWFjN2U0ZTE3ODg2NmI2NDg1YjA3NjFlYi5zZXRDb250ZW50KGh0bWxfMDkxZTg5MGY0MmQwNDk0NDk0ZTk0NGMzNzZjZWFmYzApOwogICAgICAgICAgICAKCiAgICAgICAgICAgIGNpcmNsZV8xYTAzZDg2NWQ4ZTA0YWMzYjIxZDFhOGQ2OWMyYTQzYi5iaW5kUG9wdXAocG9wdXBfMzgwZjlmMTlhYzdlNGUxNzg4NjZiNjQ4NWIwNzYxZWIpCiAgICAgICAgICAgIDsKCiAgICAgICAgICAgIAogICAgICAgIAogICAgCgogICAgICAgICAgICB2YXIgY2lyY2xlXzUzYzYzNWNmNzg4ODRiNjVhNmU3YzY0NjA1NzE3OWQwID0gTC5jaXJjbGUoCiAgICAgICAgICAgICAgICBbMjAuNTQzMTI0MSwgODQuNjg5NzMyMV0sCiAgICAgICAgICAgICAgICB7CiAgImJ1YmJsaW5nTW91c2VFdmVudHMiOiB0cnVlLAogICJjb2xvciI6ICJibHVlIiwKICAiZGFzaEFycmF5IjogbnVsbCwKICAiZGFzaE9mZnNldCI6IG51bGwsCiAgImZpbGwiOiB0cnVlLAogICJmaWxsQ29sb3IiOiAiYmx1ZSIsCiAgImZpbGxPcGFjaXR5IjogMC4yLAogICJmaWxsUnVsZSI6ICJldmVub2RkIiwKICAibGluZUNhcCI6ICJyb3VuZCIsCiAgImxpbmVKb2luIjogInJvdW5kIiwKICAib3BhY2l0eSI6IDEuMCwKICAicmFkaXVzIjogMzc5NjQuMCwKICAic3Ryb2tlIjogdHJ1ZSwKICAid2VpZ2h0IjogMwp9CiAgICAgICAgICAgICAgICApCiAgICAgICAgICAgICAgICAuYWRkVG8obWFwX2I0ZjQ5NTBhZGNiZjRjNmE4MjJlMmI4YmRiYjE5MTdmKTsKICAgICAgICAgICAgCiAgICAKICAgICAgICAgICAgdmFyIHBvcHVwXzczZGNhZDczN2RiNDQyMGFhZWMwZTI4NDkxMjc1MjExID0gTC5wb3B1cCh7bWF4V2lkdGg6ICcxMDAlJwogICAgICAgICAgICAKICAgICAgICAgICAgfSk7CgogICAgICAgICAgICAKICAgICAgICAgICAgICAgIHZhciBodG1sX2I4MzE0YjY2YzdmZjQ3NDdhMzAzMTBjZjNiMjExNDQ0ID0gJChgPGRpdiBpZD0iaHRtbF9iODMxNGI2NmM3ZmY0NzQ3YTMwMzEwY2YzYjIxMTQ0NCIgc3R5bGU9IndpZHRoOiAxMDAuMCU7IGhlaWdodDogMTAwLjAlOyI+T2Rpc2hhICA0NzQ1NSAgb24gMTAvMDgvMjAyMCAxMjoxODozNTwvZGl2PmApWzBdOwogICAgICAgICAgICAgICAgcG9wdXBfNzNkY2FkNzM3ZGI0NDIwYWFlYzBlMjg0OTEyNzUyMTEuc2V0Q29udGVudChodG1sX2I4MzE0YjY2YzdmZjQ3NDdhMzAzMTBjZjNiMjExNDQ0KTsKICAgICAgICAgICAgCgogICAgICAgICAgICBjaXJjbGVfNTNjNjM1Y2Y3ODg4NGI2NWE2ZTdjNjQ2MDU3MTc5ZDAuYmluZFBvcHVwKHBvcHVwXzczZGNhZDczN2RiNDQyMGFhZWMwZTI4NDkxMjc1MjExKQogICAgICAgICAgICA7CgogICAgICAgICAgICAKICAgICAgICAKICAgIAoKICAgICAgICAgICAgdmFyIGNpcmNsZV8zYWRkNDQxOTQ2Nzg0YTNlODQyNmI3ZjQ1ZTcxNTkwNyA9IEwuY2lyY2xlKAogICAgICAgICAgICAgICAgWzMzLjU1NzQ0NzMsIDc1LjA2MTUyXSwKICAgICAgICAgICAgICAgIHsKICAiYnViYmxpbmdNb3VzZUV2ZW50cyI6IHRydWUsCiAgImNvbG9yIjogImJsdWUiLAogICJkYXNoQXJyYXkiOiBudWxsLAogICJkYXNoT2Zmc2V0IjogbnVsbCwKICAiZmlsbCI6IHRydWUsCiAgImZpbGxDb2xvciI6ICJibHVlIiwKICAiZmlsbE9wYWNpdHkiOiAwLjIsCiAgImZpbGxSdWxlIjogImV2ZW5vZGQiLAogICJsaW5lQ2FwIjogInJvdW5kIiwKICAibGluZUpvaW4iOiAicm91bmQiLAogICJvcGFjaXR5IjogMS4wLAogICJyYWRpdXMiOiAxOTkxNy42LAogICJzdHJva2UiOiB0cnVlLAogICJ3ZWlnaHQiOiAzCn0KICAgICAgICAgICAgICAgICkKICAgICAgICAgICAgICAgIC5hZGRUbyhtYXBfYjRmNDk1MGFkY2JmNGM2YTgyMmUyYjhiZGJiMTkxN2YpOwogICAgICAgICAgICAKICAgIAogICAgICAgICAgICB2YXIgcG9wdXBfODZmYmNjYjhhYjViNDVhNDkzMjIyOTZmZGM0NjQ4ZmQgPSBMLnBvcHVwKHttYXhXaWR0aDogJzEwMCUnCiAgICAgICAgICAgIAogICAgICAgICAgICB9KTsKCiAgICAgICAgICAgIAogICAgICAgICAgICAgICAgdmFyIGh0bWxfNmRmNmZkZjY4ODcyNDdmMmI4YzI2ODVjOWIyMWMyMjYgPSAkKGA8ZGl2IGlkPSJodG1sXzZkZjZmZGY2ODg3MjQ3ZjJiOGMyNjg1YzliMjFjMjI2IiBzdHlsZT0id2lkdGg6IDEwMC4wJTsgaGVpZ2h0OiAxMDAuMCU7Ij5KYW1tdSBhbmQgS2FzaG1pciAgMjQ4OTcgIG9uIDA5LzA4LzIwMjAgMTg6MTc6MzU8L2Rpdj5gKVswXTsKICAgICAgICAgICAgICAgIHBvcHVwXzg2ZmJjY2I4YWI1YjQ1YTQ5MzIyMjk2ZmRjNDY0OGZkLnNldENvbnRlbnQoaHRtbF82ZGY2ZmRmNjg4NzI0N2YyYjhjMjY4NWM5YjIxYzIyNik7CiAgICAgICAgICAgIAoKICAgICAgICAgICAgY2lyY2xlXzNhZGQ0NDE5NDY3ODRhM2U4NDI2YjdmNDVlNzE1OTA3LmJpbmRQb3B1cChwb3B1cF84NmZiY2NiOGFiNWI0NWE0OTMyMjI5NmZkYzQ2NDhmZCkKICAgICAgICAgICAgOwoKICAgICAgICAgICAgCiAgICAgICAgCiAgICAKCiAgICAgICAgICAgIHZhciBjaXJjbGVfODg4YjFlMThhZjViNDc0OGJhY2I2NjNlOGM2ODcxMTEgPSBMLmNpcmNsZSgKICAgICAgICAgICAgICAgIFsxMC4zNTI4NzQ0LCA3Ni41MTIwMzk2XSwKICAgICAgICAgICAgICAgIHsKICAiYnViYmxpbmdNb3VzZUV2ZW50cyI6IHRydWUsCiAgImNvbG9yIjogImJsdWUiLAogICJkYXNoQXJyYXkiOiBudWxsLAogICJkYXNoT2Zmc2V0IjogbnVsbCwKICAiZmlsbCI6IHRydWUsCiAgImZpbGxDb2xvciI6ICJibHVlIiwKICAiZmlsbE9wYWNpdHkiOiAwLjIsCiAgImZpbGxSdWxlIjogImV2ZW5vZGQiLAogICJsaW5lQ2FwIjogInJvdW5kIiwKICAibGluZUpvaW4iOiAicm91bmQiLAogICJvcGFjaXR5IjogMS4wLAogICJyYWRpdXMiOiAyNzQ2NC44LAogICJzdHJva2UiOiB0cnVlLAogICJ3ZWlnaHQiOiAzCn0KICAgICAgICAgICAgICAgICkKICAgICAgICAgICAgICAgIC5hZGRUbyhtYXBfYjRmNDk1MGFkY2JmNGM2YTgyMmUyYjhiZGJiMTkxN2YpOwogICAgICAgICAgICAKICAgIAogICAgICAgICAgICB2YXIgcG9wdXBfZDNmNjdiNWI2OWNkNGQwNzgwYjFlM2U4MjYwZDQ2MDIgPSBMLnBvcHVwKHttYXhXaWR0aDogJzEwMCUnCiAgICAgICAgICAgIAogICAgICAgICAgICB9KTsKCiAgICAgICAgICAgIAogICAgICAgICAgICAgICAgdmFyIGh0bWxfOGUwZDMzYzhkODZmNDhlOTgyMjkzMjcyYzczMTExZmQgPSAkKGA8ZGl2IGlkPSJodG1sXzhlMGQzM2M4ZDg2ZjQ4ZTk4MjI5MzI3MmM3MzExMWZkIiBzdHlsZT0id2lkdGg6IDEwMC4wJTsgaGVpZ2h0OiAxMDAuMCU7Ij5LZXJhbGEgIDM0MzMxICBvbiAwOS8wOC8yMDIwIDE5OjE3OjMzPC9kaXY+YClbMF07CiAgICAgICAgICAgICAgICBwb3B1cF9kM2Y2N2I1YjY5Y2Q0ZDA3ODBiMWUzZTgyNjBkNDYwMi5zZXRDb250ZW50KGh0bWxfOGUwZDMzYzhkODZmNDhlOTgyMjkzMjcyYzczMTExZmQpOwogICAgICAgICAgICAKCiAgICAgICAgICAgIGNpcmNsZV84ODhiMWUxOGFmNWI0NzQ4YmFjYjY2M2U4YzY4NzExMS5iaW5kUG9wdXAocG9wdXBfZDNmNjdiNWI2OWNkNGQwNzgwYjFlM2U4MjYwZDQ2MDIpCiAgICAgICAgICAgIDsKCiAgICAgICAgICAgIAogICAgICAgIAogICAgCgogICAgICAgICAgICB2YXIgY2lyY2xlX2I2NjEyNGFhOWExMjQxOWFiMjViOTQwZDI1YmIyZmExID0gTC5jaXJjbGUoCiAgICAgICAgICAgICAgICBbMzAuOTI5MzIxMSwgNzUuNTAwNDg0MV0sCiAgICAgICAgICAgICAgICB7CiAgImJ1YmJsaW5nTW91c2VFdmVudHMiOiB0cnVlLAogICJjb2xvciI6ICJibHVlIiwKICAiZGFzaEFycmF5IjogbnVsbCwKICAiZGFzaE9mZnNldCI6IG51bGwsCiAgImZpbGwiOiB0cnVlLAogICJmaWxsQ29sb3IiOiAiYmx1ZSIsCiAgImZpbGxPcGFjaXR5IjogMC4yLAogICJmaWxsUnVsZSI6ICJldmVub2RkIiwKICAibGluZUNhcCI6ICJyb3VuZCIsCiAgImxpbmVKb2luIjogInJvdW5kIiwKICAib3BhY2l0eSI6IDEuMCwKICAicmFkaXVzIjogMTkxMjIuNCwKICAic3Ryb2tlIjogdHJ1ZSwKICAid2VpZ2h0IjogMwp9CiAgICAgICAgICAgICAgICApCiAgICAgICAgICAgICAgICAuYWRkVG8obWFwX2I0ZjQ5NTBhZGNiZjRjNmE4MjJlMmI4YmRiYjE5MTdmKTsKICAgICAgICAgICAgCiAgICAKICAgICAgICAgICAgdmFyIHBvcHVwX2FmNTgwYmRjYjE4YzRkMTJiNTU3MDFhYWQ2YTgxZmZmID0gTC5wb3B1cCh7bWF4V2lkdGg6ICcxMDAlJwogICAgICAgICAgICAKICAgICAgICAgICAgfSk7CgogICAgICAgICAgICAKICAgICAgICAgICAgICAgIHZhciBodG1sXzAzYTJmNjc1YjgwOTRhZGU4NDk2OWFkOGRiNmU2NjRmID0gJChgPGRpdiBpZD0iaHRtbF8wM2EyZjY3NWI4MDk0YWRlODQ5NjlhZDhkYjZlNjY0ZiIgc3R5bGU9IndpZHRoOiAxMDAuMCU7IGhlaWdodDogMTAwLjAlOyI+UHVuamFiICAyMzkwMyAgb24gMDkvMDgvMjAyMCAxOTo0MjozOTwvZGl2PmApWzBdOwogICAgICAgICAgICAgICAgcG9wdXBfYWY1ODBiZGNiMThjNGQxMmI1NTcwMWFhZDZhODFmZmYuc2V0Q29udGVudChodG1sXzAzYTJmNjc1YjgwOTRhZGU4NDk2OWFkOGRiNmU2NjRmKTsKICAgICAgICAgICAgCgogICAgICAgICAgICBjaXJjbGVfYjY2MTI0YWE5YTEyNDE5YWIyNWI5NDBkMjViYjJmYTEuYmluZFBvcHVwKHBvcHVwX2FmNTgwYmRjYjE4YzRkMTJiNTU3MDFhYWQ2YTgxZmZmKQogICAgICAgICAgICA7CgogICAgICAgICAgICAKICAgICAgICAKICAgIAoKICAgICAgICAgICAgdmFyIGNpcmNsZV8xNzMwNjdlYWZhZjA0NjBkYjUwYWUzMGNmZTNhNTFlZSA9IEwuY2lyY2xlKAogICAgICAgICAgICAgICAgWzIzLjQ1NTk4MDksIDg1LjI1NTczMDFdLAogICAgICAgICAgICAgICAgewogICJidWJibGluZ01vdXNlRXZlbnRzIjogdHJ1ZSwKICAiY29sb3IiOiAiYmx1ZSIsCiAgImRhc2hBcnJheSI6IG51bGwsCiAgImRhc2hPZmZzZXQiOiBudWxsLAogICJmaWxsIjogdHJ1ZSwKICAiZmlsbENvbG9yIjogImJsdWUiLAogICJmaWxsT3BhY2l0eSI6IDAuMiwKICAiZmlsbFJ1bGUiOiAiZXZlbm9kZCIsCiAgImxpbmVDYXAiOiAicm91bmQiLAogICJsaW5lSm9pbiI6ICJyb3VuZCIsCiAgIm9wYWNpdHkiOiAxLjAsCiAgInJhZGl1cyI6IDE0NTI0LjgsCiAgInN0cm9rZSI6IHRydWUsCiAgIndlaWdodCI6IDMKfQogICAgICAgICAgICAgICAgKQogICAgICAgICAgICAgICAgLmFkZFRvKG1hcF9iNGY0OTUwYWRjYmY0YzZhODIyZTJiOGJkYmIxOTE3Zik7CiAgICAgICAgICAgIAogICAgCiAgICAgICAgICAgIHZhciBwb3B1cF9lYmEzNWZkMjU0ZjQ0NzQyYWFhNTM4ZThlMTVlZGI5ZCA9IEwucG9wdXAoe21heFdpZHRoOiAnMTAwJScKICAgICAgICAgICAgCiAgICAgICAgICAgIH0pOwoKICAgICAgICAgICAgCiAgICAgICAgICAgICAgICB2YXIgaHRtbF80YTFkYmRmMGNhNzM0ZTFlYWY3ODcyNTY0ZWFlZTYxNyA9ICQoYDxkaXYgaWQ9Imh0bWxfNGExZGJkZjBjYTczNGUxZWFmNzg3MjU2NGVhZWU2MTciIHN0eWxlPSJ3aWR0aDogMTAwLjAlOyBoZWlnaHQ6IDEwMC4wJTsiPkpoYXJraGFuZCAgMTgxNTYgIG9uIDA5LzA4LzIwMjAgMjM6MTQ6MzM8L2Rpdj5gKVswXTsKICAgICAgICAgICAgICAgIHBvcHVwX2ViYTM1ZmQyNTRmNDQ3NDJhYWE1MzhlOGUxNWVkYjlkLnNldENvbnRlbnQoaHRtbF80YTFkYmRmMGNhNzM0ZTFlYWY3ODcyNTY0ZWFlZTYxNyk7CiAgICAgICAgICAgIAoKICAgICAgICAgICAgY2lyY2xlXzE3MzA2N2VhZmFmMDQ2MGRiNTBhZTMwY2ZlM2E1MWVlLmJpbmRQb3B1cChwb3B1cF9lYmEzNWZkMjU0ZjQ0NzQyYWFhNTM4ZThlMTVlZGI5ZCkKICAgICAgICAgICAgOwoKICAgICAgICAgICAgCiAgICAgICAgCiAgICAKCiAgICAgICAgICAgIHZhciBjaXJjbGVfODIwODgwNzhlOWQzNDQwNGEwNGNmN2UwNjkxZDVkMjcgPSBMLmNpcmNsZSgKICAgICAgICAgICAgICAgIFsyMS42NjM3MzU5LCA4MS44NDA2MzUxXSwKICAgICAgICAgICAgICAgIHsKICAiYnViYmxpbmdNb3VzZUV2ZW50cyI6IHRydWUsCiAgImNvbG9yIjogImJsdWUiLAogICJkYXNoQXJyYXkiOiBudWxsLAogICJkYXNoT2Zmc2V0IjogbnVsbCwKICAiZmlsbCI6IHRydWUsCiAgImZpbGxDb2xvciI6ICJibHVlIiwKICAiZmlsbE9wYWNpdHkiOiAwLjIsCiAgImZpbGxSdWxlIjogImV2ZW5vZGQiLAogICJsaW5lQ2FwIjogInJvdW5kIiwKICAibGluZUpvaW4iOiAicm91bmQiLAogICJvcGFjaXR5IjogMS4wLAogICJyYWRpdXMiOiA5NzE4LjQsCiAgInN0cm9rZSI6IHRydWUsCiAgIndlaWdodCI6IDMKfQogICAgICAgICAgICAgICAgKQogICAgICAgICAgICAgICAgLmFkZFRvKG1hcF9iNGY0OTUwYWRjYmY0YzZhODIyZTJiOGJkYmIxOTE3Zik7CiAgICAgICAgICAgIAogICAgCiAgICAgICAgICAgIHZhciBwb3B1cF83NmJlYmM3NTg0M2E0OGIwOTlhYmE0NTkwYWRmZTk3ZSA9IEwucG9wdXAoe21heFdpZHRoOiAnMTAwJScKICAgICAgICAgICAgCiAgICAgICAgICAgIH0pOwoKICAgICAgICAgICAgCiAgICAgICAgICAgICAgICB2YXIgaHRtbF8wMjI2NjQ1Njk1OTM0ODUyOTZhZjI2NGVhODcyOWRkMyA9ICQoYDxkaXYgaWQ9Imh0bWxfMDIyNjY0NTY5NTkzNDg1Mjk2YWYyNjRlYTg3MjlkZDMiIHN0eWxlPSJ3aWR0aDogMTAwLjAlOyBoZWlnaHQ6IDEwMC4wJTsiPkNoaGF0dGlzZ2FyaCAgMTIxNDggIG9uIDA5LzA4LzIwMjAgMjE6Mjc6MzU8L2Rpdj5gKVswXTsKICAgICAgICAgICAgICAgIHBvcHVwXzc2YmViYzc1ODQzYTQ4YjA5OWFiYTQ1OTBhZGZlOTdlLnNldENvbnRlbnQoaHRtbF8wMjI2NjQ1Njk1OTM0ODUyOTZhZjI2NGVhODcyOWRkMyk7CiAgICAgICAgICAgIAoKICAgICAgICAgICAgY2lyY2xlXzgyMDg4MDc4ZTlkMzQ0MDRhMDRjZjdlMDY5MWQ1ZDI3LmJpbmRQb3B1cChwb3B1cF83NmJlYmM3NTg0M2E0OGIwOTlhYmE0NTkwYWRmZTk3ZSkKICAgICAgICAgICAgOwoKICAgICAgICAgICAgCiAgICAgICAgCiAgICAKCiAgICAgICAgICAgIHZhciBjaXJjbGVfNGFkNDQzMGFhYTI3NGIxZThkNGE5ODI0MmZhYThiMzUgPSBMLmNpcmNsZSgKICAgICAgICAgICAgICAgIFszMC4wOTE5OTM1NDk5OTk5OTgsIDc5LjMyMTc2NjU5MzQzMDE4XSwKICAgICAgICAgICAgICAgIHsKICAiYnViYmxpbmdNb3VzZUV2ZW50cyI6IHRydWUsCiAgImNvbG9yIjogImJsdWUiLAogICJkYXNoQXJyYXkiOiBudWxsLAogICJkYXNoT2Zmc2V0IjogbnVsbCwKICAiZmlsbCI6IHRydWUsCiAgImZpbGxDb2xvciI6ICJibHVlIiwKICAiZmlsbE9wYWNpdHkiOiAwLjIsCiAgImZpbGxSdWxlIjogImV2ZW5vZGQiLAogICJsaW5lQ2FwIjogInJvdW5kIiwKICAibGluZUpvaW4iOiAicm91bmQiLAogICJvcGFjaXR5IjogMS4wLAogICJyYWRpdXMiOiA3NzA1LjYsCiAgInN0cm9rZSI6IHRydWUsCiAgIndlaWdodCI6IDMKfQogICAgICAgICAgICAgICAgKQogICAgICAgICAgICAgICAgLmFkZFRvKG1hcF9iNGY0OTUwYWRjYmY0YzZhODIyZTJiOGJkYmIxOTE3Zik7CiAgICAgICAgICAgIAogICAgCiAgICAgICAgICAgIHZhciBwb3B1cF8wZGRhZWI0MGQ5OGM0MTg4YTI1NmFkZjY1YzNjM2YzYiA9IEwucG9wdXAoe21heFdpZHRoOiAnMTAwJScKICAgICAgICAgICAgCiAgICAgICAgICAgIH0pOwoKICAgICAgICAgICAgCiAgICAgICAgICAgICAgICB2YXIgaHRtbF9jNWJjZjY2ZTI3ZWI0NDZlYjE0OGVmM2FhOGUyYjhiYyA9ICQoYDxkaXYgaWQ9Imh0bWxfYzViY2Y2NmUyN2ViNDQ2ZWIxNDhlZjNhYThlMmI4YmMiIHN0eWxlPSJ3aWR0aDogMTAwLjAlOyBoZWlnaHQ6IDEwMC4wJTsiPlV0dGFyYWtoYW5kICA5NjMyICBvbiAwOS8wOC8yMDIwIDIwOjExOjQzPC9kaXY+YClbMF07CiAgICAgICAgICAgICAgICBwb3B1cF8wZGRhZWI0MGQ5OGM0MTg4YTI1NmFkZjY1YzNjM2YzYi5zZXRDb250ZW50KGh0bWxfYzViY2Y2NmUyN2ViNDQ2ZWIxNDhlZjNhYThlMmI4YmMpOwogICAgICAgICAgICAKCiAgICAgICAgICAgIGNpcmNsZV80YWQ0NDMwYWFhMjc0YjFlOGQ0YTk4MjQyZmFhOGIzNS5iaW5kUG9wdXAocG9wdXBfMGRkYWViNDBkOThjNDE4OGEyNTZhZGY2NWMzYzNmM2IpCiAgICAgICAgICAgIDsKCiAgICAgICAgICAgIAogICAgICAgIAogICAgCgogICAgICAgICAgICB2YXIgY2lyY2xlXzZmNWIwNzg5MDIwYTRmMzliNGZmZjQzMDgwNWJjOWZkID0gTC5jaXJjbGUoCiAgICAgICAgICAgICAgICBbMTUuMzAwNDU0MywgNzQuMDg1NTEzNF0sCiAgICAgICAgICAgICAgICB7CiAgImJ1YmJsaW5nTW91c2VFdmVudHMiOiB0cnVlLAogICJjb2xvciI6ICJibHVlIiwKICAiZGFzaEFycmF5IjogbnVsbCwKICAiZGFzaE9mZnNldCI6IG51bGwsCiAgImZpbGwiOiB0cnVlLAogICJmaWxsQ29sb3IiOiAiYmx1ZSIsCiAgImZpbGxPcGFjaXR5IjogMC4yLAogICJmaWxsUnVsZSI6ICJldmVub2RkIiwKICAibGluZUNhcCI6ICJyb3VuZCIsCiAgImxpbmVKb2luIjogInJvdW5kIiwKICAib3BhY2l0eSI6IDEuMCwKICAicmFkaXVzIjogNjk2OS42LAogICJzdHJva2UiOiB0cnVlLAogICJ3ZWlnaHQiOiAzCn0KICAgICAgICAgICAgICAgICkKICAgICAgICAgICAgICAgIC5hZGRUbyhtYXBfYjRmNDk1MGFkY2JmNGM2YTgyMmUyYjhiZGJiMTkxN2YpOwogICAgICAgICAgICAKICAgIAogICAgICAgICAgICB2YXIgcG9wdXBfYTMyMTFkMjZmNGVhNDQ0MGEwMTEyNzlhN2QxNDdlMDMgPSBMLnBvcHVwKHttYXhXaWR0aDogJzEwMCUnCiAgICAgICAgICAgIAogICAgICAgICAgICB9KTsKCiAgICAgICAgICAgIAogICAgICAgICAgICAgICAgdmFyIGh0bWxfZjY0OWJkMTA5MTI3NGI3OGE2M2I0ZWNhY2QxZGQ0MGEgPSAkKGA8ZGl2IGlkPSJodG1sX2Y2NDliZDEwOTEyNzRiNzhhNjNiNGVjYWNkMWRkNDBhIiBzdHlsZT0id2lkdGg6IDEwMC4wJTsgaGVpZ2h0OiAxMDAuMCU7Ij5Hb2EgIDg3MTIgIG9uIDA5LzA4LzIwMjAgMjA6NDE6MzY8L2Rpdj5gKVswXTsKICAgICAgICAgICAgICAgIHBvcHVwX2EzMjExZDI2ZjRlYTQ0NDBhMDExMjc5YTdkMTQ3ZTAzLnNldENvbnRlbnQoaHRtbF9mNjQ5YmQxMDkxMjc0Yjc4YTYzYjRlY2FjZDFkZDQwYSk7CiAgICAgICAgICAgIAoKICAgICAgICAgICAgY2lyY2xlXzZmNWIwNzg5MDIwYTRmMzliNGZmZjQzMDgwNWJjOWZkLmJpbmRQb3B1cChwb3B1cF9hMzIxMWQyNmY0ZWE0NDQwYTAxMTI3OWE3ZDE0N2UwMykKICAgICAgICAgICAgOwoKICAgICAgICAgICAgCiAgICAgICAgCiAgICAKCiAgICAgICAgICAgIHZhciBjaXJjbGVfNzRmMTRhODM2ZWY1NGVlZWE0OWE5OWQ2NTQxZmQwYjAgPSBMLmNpcmNsZSgKICAgICAgICAgICAgICAgIFsyMy43NzUwODIzLCA5MS43MDI1MDkxXSwKICAgICAgICAgICAgICAgIHsKICAiYnViYmxpbmdNb3VzZUV2ZW50cyI6IHRydWUsCiAgImNvbG9yIjogImJsdWUiLAogICJkYXNoQXJyYXkiOiBudWxsLAogICJkYXNoT2Zmc2V0IjogbnVsbCwKICAiZmlsbCI6IHRydWUsCiAgImZpbGxDb2xvciI6ICJibHVlIiwKICAiZmlsbE9wYWNpdHkiOiAwLjIsCiAgImZpbGxSdWxlIjogImV2ZW5vZGQiLAogICJsaW5lQ2FwIjogInJvdW5kIiwKICAibGluZUpvaW4iOiAicm91bmQiLAogICJvcGFjaXR5IjogMS4wLAogICJyYWRpdXMiOiA0OTc4LjQsCiAgInN0cm9rZSI6IHRydWUsCiAgIndlaWdodCI6IDMKfQogICAgICAgICAgICAgICAgKQogICAgICAgICAgICAgICAgLmFkZFRvKG1hcF9iNGY0OTUwYWRjYmY0YzZhODIyZTJiOGJkYmIxOTE3Zik7CiAgICAgICAgICAgIAogICAgCiAgICAgICAgICAgIHZhciBwb3B1cF82ZGZhYTk1MWE0MTU0NmViYmEyMWZhYzJkNGE4YjJiNiA9IEwucG9wdXAoe21heFdpZHRoOiAnMTAwJScKICAgICAgICAgICAgCiAgICAgICAgICAgIH0pOwoKICAgICAgICAgICAgCiAgICAgICAgICAgICAgICB2YXIgaHRtbF84ODc2YzYxYjRhM2U0OTk5YjFhODA0OTUxZWJmOTQ3MyA9ICQoYDxkaXYgaWQ9Imh0bWxfODg3NmM2MWI0YTNlNDk5OWIxYTgwNDk1MWViZjk0NzMiIHN0eWxlPSJ3aWR0aDogMTAwLjAlOyBoZWlnaHQ6IDEwMC4wJTsiPlRyaXB1cmEgIDYyMjMgIG9uIDEwLzA4LzIwMjAgMTI6MTg6Mzg8L2Rpdj5gKVswXTsKICAgICAgICAgICAgICAgIHBvcHVwXzZkZmFhOTUxYTQxNTQ2ZWJiYTIxZmFjMmQ0YThiMmI2LnNldENvbnRlbnQoaHRtbF84ODc2YzYxYjRhM2U0OTk5YjFhODA0OTUxZWJmOTQ3Myk7CiAgICAgICAgICAgIAoKICAgICAgICAgICAgY2lyY2xlXzc0ZjE0YTgzNmVmNTRlZWVhNDlhOTlkNjU0MWZkMGIwLmJpbmRQb3B1cChwb3B1cF82ZGZhYTk1MWE0MTU0NmViYmEyMWZhYzJkNGE4YjJiNikKICAgICAgICAgICAgOwoKICAgICAgICAgICAgCiAgICAgICAgCiAgICAKCiAgICAgICAgICAgIHZhciBjaXJjbGVfNDY2MDk2NWE1ZTAwNDdhNjk3N2I4MWY3NjNlMDkzN2EgPSBMLmNpcmNsZSgKICAgICAgICAgICAgICAgIFsxMS45MzQwNTY4LCA3OS44MzA2NDQ3XSwKICAgICAgICAgICAgICAgIHsKICAiYnViYmxpbmdNb3VzZUV2ZW50cyI6IHRydWUsCiAgImNvbG9yIjogImJsdWUiLAogICJkYXNoQXJyYXkiOiBudWxsLAogICJkYXNoT2Zmc2V0IjogbnVsbCwKICAiZmlsbCI6IHRydWUsCiAgImZpbGxDb2xvciI6ICJibHVlIiwKICAiZmlsbE9wYWNpdHkiOiAwLjIsCiAgImZpbGxSdWxlIjogImV2ZW5vZGQiLAogICJsaW5lQ2FwIjogInJvdW5kIiwKICAibGluZUpvaW4iOiAicm91bmQiLAogICJvcGFjaXR5IjogMS4wLAogICJyYWRpdXMiOiA0MzA1LjYsCiAgInN0cm9rZSI6IHRydWUsCiAgIndlaWdodCI6IDMKfQogICAgICAgICAgICAgICAgKQogICAgICAgICAgICAgICAgLmFkZFRvKG1hcF9iNGY0OTUwYWRjYmY0YzZhODIyZTJiOGJkYmIxOTE3Zik7CiAgICAgICAgICAgIAogICAgCiAgICAgICAgICAgIHZhciBwb3B1cF9hOTlmZjU3OTFkYmY0OTI1Yjk3MjlkN2E3NzBlMGVjZiA9IEwucG9wdXAoe21heFdpZHRoOiAnMTAwJScKICAgICAgICAgICAgCiAgICAgICAgICAgIH0pOwoKICAgICAgICAgICAgCiAgICAgICAgICAgICAgICB2YXIgaHRtbF81MmJkMTFlYjBmMDU0MWFjOTc5NzMwOWE5NjUwYzY5ZCA9ICQoYDxkaXYgaWQ9Imh0bWxfNTJiZDExZWIwZjA1NDFhYzk3OTczMDlhOTY1MGM2OWQiIHN0eWxlPSJ3aWR0aDogMTAwLjAlOyBoZWlnaHQ6IDEwMC4wJTsiPlB1ZHVjaGVycnkgIDUzODIgIG9uIDA5LzA4LzIwMjAgMTc6MjY6MzY8L2Rpdj5gKVswXTsKICAgICAgICAgICAgICAgIHBvcHVwX2E5OWZmNTc5MWRiZjQ5MjViOTcyOWQ3YTc3MGUwZWNmLnNldENvbnRlbnQoaHRtbF81MmJkMTFlYjBmMDU0MWFjOTc5NzMwOWE5NjUwYzY5ZCk7CiAgICAgICAgICAgIAoKICAgICAgICAgICAgY2lyY2xlXzQ2NjA5NjVhNWUwMDQ3YTY5NzdiODFmNzYzZTA5MzdhLmJpbmRQb3B1cChwb3B1cF9hOTlmZjU3OTFkYmY0OTI1Yjk3MjlkN2E3NzBlMGVjZikKICAgICAgICAgICAgOwoKICAgICAgICAgICAgCiAgICAgICAgCiAgICAKCiAgICAgICAgICAgIHZhciBjaXJjbGVfYWU0MjcyYzM3NjAxNDZmNWFmM2MwZGYzNzhhNzY1MGYgPSBMLmNpcmNsZSgKICAgICAgICAgICAgICAgIFsyNC43MjA4ODE4LCA5My45MjI5Mzg2XSwKICAgICAgICAgICAgICAgIHsKICAiYnViYmxpbmdNb3VzZUV2ZW50cyI6IHRydWUsCiAgImNvbG9yIjogImJsdWUiLAogICJkYXNoQXJyYXkiOiBudWxsLAogICJkYXNoT2Zmc2V0IjogbnVsbCwKICAiZmlsbCI6IHRydWUsCiAgImZpbGxDb2xvciI6ICJibHVlIiwKICAiZmlsbE9wYWNpdHkiOiAwLjIsCiAgImZpbGxSdWxlIjogImV2ZW5vZGQiLAogICJsaW5lQ2FwIjogInJvdW5kIiwKICAibGluZUpvaW4iOiAicm91bmQiLAogICJvcGFjaXR5IjogMS4wLAogICJyYWRpdXMiOiAzMDAyLjQsCiAgInN0cm9rZSI6IHRydWUsCiAgIndlaWdodCI6IDMKfQogICAgICAgICAgICAgICAgKQogICAgICAgICAgICAgICAgLmFkZFRvKG1hcF9iNGY0OTUwYWRjYmY0YzZhODIyZTJiOGJkYmIxOTE3Zik7CiAgICAgICAgICAgIAogICAgCiAgICAgICAgICAgIHZhciBwb3B1cF8yOTJhNDFlNzMzMTQ0NGEyOWJlMjNmNDMyZjA5OTk4ZSA9IEwucG9wdXAoe21heFdpZHRoOiAnMTAwJScKICAgICAgICAgICAgCiAgICAgICAgICAgIH0pOwoKICAgICAgICAgICAgCiAgICAgICAgICAgICAgICB2YXIgaHRtbF8wMzc5NGE1N2Y4ZGM0N2M2YWMyNDdjNTMwNjFjYzUyZSA9ICQoYDxkaXYgaWQ9Imh0bWxfMDM3OTRhNTdmOGRjNDdjNmFjMjQ3YzUzMDYxY2M1MmUiIHN0eWxlPSJ3aWR0aDogMTAwLjAlOyBoZWlnaHQ6IDEwMC4wJTsiPk1hbmlwdXIgIDM3NTMgIG9uIDA5LzA4LzIwMjAgMTk6MTc6MzQ8L2Rpdj5gKVswXTsKICAgICAgICAgICAgICAgIHBvcHVwXzI5MmE0MWU3MzMxNDQ0YTI5YmUyM2Y0MzJmMDk5OThlLnNldENvbnRlbnQoaHRtbF8wMzc5NGE1N2Y4ZGM0N2M2YWMyNDdjNTMwNjFjYzUyZSk7CiAgICAgICAgICAgIAoKICAgICAgICAgICAgY2lyY2xlX2FlNDI3MmMzNzYwMTQ2ZjVhZjNjMGRmMzc4YTc2NTBmLmJpbmRQb3B1cChwb3B1cF8yOTJhNDFlNzMzMTQ0NGEyOWJlMjNmNDMyZjA5OTk4ZSkKICAgICAgICAgICAgOwoKICAgICAgICAgICAgCiAgICAgICAgCiAgICAKCiAgICAgICAgICAgIHZhciBjaXJjbGVfYzhlNDRhY2RmOTJkNGI3Nzg2Y2U2MjBmZmY5M2EzMzQgPSBMLmNpcmNsZSgKICAgICAgICAgICAgICAgIFszMS44MTY3NjAxNSwgNzcuMzQ5MzIwNTE5Njg4NThdLAogICAgICAgICAgICAgICAgewogICJidWJibGluZ01vdXNlRXZlbnRzIjogdHJ1ZSwKICAiY29sb3IiOiAiYmx1ZSIsCiAgImRhc2hBcnJheSI6IG51bGwsCiAgImRhc2hPZmZzZXQiOiBudWxsLAogICJmaWxsIjogdHJ1ZSwKICAiZmlsbENvbG9yIjogImJsdWUiLAogICJmaWxsT3BhY2l0eSI6IDAuMiwKICAiZmlsbFJ1bGUiOiAiZXZlbm9kZCIsCiAgImxpbmVDYXAiOiAicm91bmQiLAogICJsaW5lSm9pbiI6ICJyb3VuZCIsCiAgIm9wYWNpdHkiOiAxLjAsCiAgInJhZGl1cyI6IDI3MDAuMCwKICAic3Ryb2tlIjogdHJ1ZSwKICAid2VpZ2h0IjogMwp9CiAgICAgICAgICAgICAgICApCiAgICAgICAgICAgICAgICAuYWRkVG8obWFwX2I0ZjQ5NTBhZGNiZjRjNmE4MjJlMmI4YmRiYjE5MTdmKTsKICAgICAgICAgICAgCiAgICAKICAgICAgICAgICAgdmFyIHBvcHVwX2E1NGQzNDc2NzBkNTQ2NjY4OTM1ZDA0NzJjZDgxZTJjID0gTC5wb3B1cCh7bWF4V2lkdGg6ICcxMDAlJwogICAgICAgICAgICAKICAgICAgICAgICAgfSk7CgogICAgICAgICAgICAKICAgICAgICAgICAgICAgIHZhciBodG1sXzA3YjBjNjhmY2JkZDQwYzI4ZmZmZGYxYTAxZmY1MWJhID0gJChgPGRpdiBpZD0iaHRtbF8wN2IwYzY4ZmNiZGQ0MGMyOGZmZmRmMWEwMWZmNTFiYSIgc3R5bGU9IndpZHRoOiAxMDAuMCU7IGhlaWdodDogMTAwLjAlOyI+SGltYWNoYWwgUHJhZGVzaCAgMzM3NSAgb24gMTAvMDgvMjAyMCAxMzo1NTozMzwvZGl2PmApWzBdOwogICAgICAgICAgICAgICAgcG9wdXBfYTU0ZDM0NzY3MGQ1NDY2Njg5MzVkMDQ3MmNkODFlMmMuc2V0Q29udGVudChodG1sXzA3YjBjNjhmY2JkZDQwYzI4ZmZmZGYxYTAxZmY1MWJhKTsKICAgICAgICAgICAgCgogICAgICAgICAgICBjaXJjbGVfYzhlNDRhY2RmOTJkNGI3Nzg2Y2U2MjBmZmY5M2EzMzQuYmluZFBvcHVwKHBvcHVwX2E1NGQzNDc2NzBkNTQ2NjY4OTM1ZDA0NzJjZDgxZTJjKQogICAgICAgICAgICA7CgogICAgICAgICAgICAKICAgICAgICAKICAgIAoKICAgICAgICAgICAgdmFyIGNpcmNsZV82ODlmZWY4NDg2MGQ0MGRmYWY5Y2I0OTU0OWU3MWU2NCA9IEwuY2lyY2xlKAogICAgICAgICAgICAgICAgWzMzLjk0NTY0MDcsIDc3LjY1Njg1NzZdLAogICAgICAgICAgICAgICAgewogICJidWJibGluZ01vdXNlRXZlbnRzIjogdHJ1ZSwKICAiY29sb3IiOiAiYmx1ZSIsCiAgImRhc2hBcnJheSI6IG51bGwsCiAgImRhc2hPZmZzZXQiOiBudWxsLAogICJmaWxsIjogdHJ1ZSwKICAiZmlsbENvbG9yIjogImJsdWUiLAogICJmaWxsT3BhY2l0eSI6IDAuMiwKICAiZmlsbFJ1bGUiOiAiZXZlbm9kZCIsCiAgImxpbmVDYXAiOiAicm91bmQiLAogICJsaW5lSm9pbiI6ICJyb3VuZCIsCiAgIm9wYWNpdHkiOiAxLjAsCiAgInJhZGl1cyI6IDEzNTAuNCwKICAic3Ryb2tlIjogdHJ1ZSwKICAid2VpZ2h0IjogMwp9CiAgICAgICAgICAgICAgICApCiAgICAgICAgICAgICAgICAuYWRkVG8obWFwX2I0ZjQ5NTBhZGNiZjRjNmE4MjJlMmI4YmRiYjE5MTdmKTsKICAgICAgICAgICAgCiAgICAKICAgICAgICAgICAgdmFyIHBvcHVwXzE4OTI4ZDQzNjk2NjRkYTRhZGI0NWJiOTAwZGI4YmI5ID0gTC5wb3B1cCh7bWF4V2lkdGg6ICcxMDAlJwogICAgICAgICAgICAKICAgICAgICAgICAgfSk7CgogICAgICAgICAgICAKICAgICAgICAgICAgICAgIHZhciBodG1sXzY0MDgzODFlMWI0NjQ3NzI4YTE3YjhiZTQ4OGEzYzI1ID0gJChgPGRpdiBpZD0iaHRtbF82NDA4MzgxZTFiNDY0NzcyOGExN2I4YmU0ODhhM2MyNSIgc3R5bGU9IndpZHRoOiAxMDAuMCU7IGhlaWdodDogMTAwLjAlOyI+TGFkYWtoICAxNjg4ICBvbiAxMC8wOC8yMDIwIDA3OjMxOjM2PC9kaXY+YClbMF07CiAgICAgICAgICAgICAgICBwb3B1cF8xODkyOGQ0MzY5NjY0ZGE0YWRiNDViYjkwMGRiOGJiOS5zZXRDb250ZW50KGh0bWxfNjQwODM4MWUxYjQ2NDc3MjhhMTdiOGJlNDg4YTNjMjUpOwogICAgICAgICAgICAKCiAgICAgICAgICAgIGNpcmNsZV82ODlmZWY4NDg2MGQ0MGRmYWY5Y2I0OTU0OWU3MWU2NC5iaW5kUG9wdXAocG9wdXBfMTg5MjhkNDM2OTY2NGRhNGFkYjQ1YmI5MDBkYjhiYjkpCiAgICAgICAgICAgIDsKCiAgICAgICAgICAgIAogICAgICAgIAogICAgCgogICAgICAgICAgICB2YXIgY2lyY2xlXzY3NmEyZjMxNWUyMTRkZTRhODZhODVlMGQ3MTU4YmVhID0gTC5jaXJjbGUoCiAgICAgICAgICAgICAgICBbMjYuMTYzMDU1NiwgOTQuNTg4NDkxMV0sCiAgICAgICAgICAgICAgICB7CiAgImJ1YmJsaW5nTW91c2VFdmVudHMiOiB0cnVlLAogICJjb2xvciI6ICJibHVlIiwKICAiZGFzaEFycmF5IjogbnVsbCwKICAiZGFzaE9mZnNldCI6IG51bGwsCiAgImZpbGwiOiB0cnVlLAogICJmaWxsQ29sb3IiOiAiYmx1ZSIsCiAgImZpbGxPcGFjaXR5IjogMC4yLAogICJmaWxsUnVsZSI6ICJldmVub2RkIiwKICAibGluZUNhcCI6ICJyb3VuZCIsCiAgImxpbmVKb2luIjogInJvdW5kIiwKICAib3BhY2l0eSI6IDEuMCwKICAicmFkaXVzIjogMjIyNC44LAogICJzdHJva2UiOiB0cnVlLAogICJ3ZWlnaHQiOiAzCn0KICAgICAgICAgICAgICAgICkKICAgICAgICAgICAgICAgIC5hZGRUbyhtYXBfYjRmNDk1MGFkY2JmNGM2YTgyMmUyYjhiZGJiMTkxN2YpOwogICAgICAgICAgICAKICAgIAogICAgICAgICAgICB2YXIgcG9wdXBfZGQ2ZDMyZGExYzQ0NGEzZGI4MWZiOWI5NWYwZjM2YWMgPSBMLnBvcHVwKHttYXhXaWR0aDogJzEwMCUnCiAgICAgICAgICAgIAogICAgICAgICAgICB9KTsKCiAgICAgICAgICAgIAogICAgICAgICAgICAgICAgdmFyIGh0bWxfMDY2ZjVmOTU4ZThiNDhkNDhlMDc4ODc3ZGViZTRjYTcgPSAkKGA8ZGl2IGlkPSJodG1sXzA2NmY1Zjk1OGU4YjQ4ZDQ4ZTA3ODg3N2RlYmU0Y2E3IiBzdHlsZT0id2lkdGg6IDEwMC4wJTsgaGVpZ2h0OiAxMDAuMCU7Ij5OYWdhbGFuZCAgMjc4MSAgb24gMDkvMDgvMjAyMCAxODoxNzozNzwvZGl2PmApWzBdOwogICAgICAgICAgICAgICAgcG9wdXBfZGQ2ZDMyZGExYzQ0NGEzZGI4MWZiOWI5NWYwZjM2YWMuc2V0Q29udGVudChodG1sXzA2NmY1Zjk1OGU4YjQ4ZDQ4ZTA3ODg3N2RlYmU0Y2E3KTsKICAgICAgICAgICAgCgogICAgICAgICAgICBjaXJjbGVfNjc2YTJmMzE1ZTIxNGRlNGE4NmE4NWUwZDcxNThiZWEuYmluZFBvcHVwKHBvcHVwX2RkNmQzMmRhMWM0NDRhM2RiODFmYjliOTVmMGYzNmFjKQogICAgICAgICAgICA7CgogICAgICAgICAgICAKICAgICAgICAKICAgIAoKICAgICAgICAgICAgdmFyIGNpcmNsZV9hZThjYWI3OTMyOTY0ZjliOGJkMGMzZDljMTk1MTcyYyA9IEwuY2lyY2xlKAogICAgICAgICAgICAgICAgWzI3LjY4OTE3MTIsIDk2LjQ1OTcyMjZdLAogICAgICAgICAgICAgICAgewogICJidWJibGluZ01vdXNlRXZlbnRzIjogdHJ1ZSwKICAiY29sb3IiOiAiYmx1ZSIsCiAgImRhc2hBcnJheSI6IG51bGwsCiAgImRhc2hPZmZzZXQiOiBudWxsLAogICJmaWxsIjogdHJ1ZSwKICAiZmlsbENvbG9yIjogImJsdWUiLAogICJmaWxsT3BhY2l0eSI6IDAuMiwKICAiZmlsbFJ1bGUiOiAiZXZlbm9kZCIsCiAgImxpbmVDYXAiOiAicm91bmQiLAogICJsaW5lSm9pbiI6ICJyb3VuZCIsCiAgIm9wYWNpdHkiOiAxLjAsCiAgInJhZGl1cyI6IDE3MjQuMCwKICAic3Ryb2tlIjogdHJ1ZSwKICAid2VpZ2h0IjogMwp9CiAgICAgICAgICAgICAgICApCiAgICAgICAgICAgICAgICAuYWRkVG8obWFwX2I0ZjQ5NTBhZGNiZjRjNmE4MjJlMmI4YmRiYjE5MTdmKTsKICAgICAgICAgICAgCiAgICAKICAgICAgICAgICAgdmFyIHBvcHVwXzQ4MGQ1NDQ0YWQ0NzQzZWZhM2YwNDMxNjExZjhiMTBkID0gTC5wb3B1cCh7bWF4V2lkdGg6ICcxMDAlJwogICAgICAgICAgICAKICAgICAgICAgICAgfSk7CgogICAgICAgICAgICAKICAgICAgICAgICAgICAgIHZhciBodG1sXzNjMGM4MjU5YzQ1YzRkMzU5ZmExZmNjMjQ1YTQ5MzFmID0gJChgPGRpdiBpZD0iaHRtbF8zYzBjODI1OWM0NWM0ZDM1OWZhMWZjYzI0NWE0OTMxZiIgc3R5bGU9IndpZHRoOiAxMDAuMCU7IGhlaWdodDogMTAwLjAlOyI+QXJ1bmFjaGFsIFByYWRlc2ggIDIxNTUgIG9uIDA5LzA4LzIwMjAgMjE6NDI6NDQ8L2Rpdj5gKVswXTsKICAgICAgICAgICAgICAgIHBvcHVwXzQ4MGQ1NDQ0YWQ0NzQzZWZhM2YwNDMxNjExZjhiMTBkLnNldENvbnRlbnQoaHRtbF8zYzBjODI1OWM0NWM0ZDM1OWZhMWZjYzI0NWE0OTMxZik7CiAgICAgICAgICAgIAoKICAgICAgICAgICAgY2lyY2xlX2FlOGNhYjc5MzI5NjRmOWI4YmQwYzNkOWMxOTUxNzJjLmJpbmRQb3B1cChwb3B1cF80ODBkNTQ0NGFkNDc0M2VmYTNmMDQzMTYxMWY4YjEwZCkKICAgICAgICAgICAgOwoKICAgICAgICAgICAgCiAgICAgICAgCiAgICAKCiAgICAgICAgICAgIHZhciBjaXJjbGVfMzNhZmNlZjQ0ZjQwNDUzY2E0NWNlYjZjMTA4MDNlYTAgPSBMLmNpcmNsZSgKICAgICAgICAgICAgICAgIFszMC43MzM0NDIxLCA3Ni43Nzk3MTQzXSwKICAgICAgICAgICAgICAgIHsKICAiYnViYmxpbmdNb3VzZUV2ZW50cyI6IHRydWUsCiAgImNvbG9yIjogImJsdWUiLAogICJkYXNoQXJyYXkiOiBudWxsLAogICJkYXNoT2Zmc2V0IjogbnVsbCwKICAiZmlsbCI6IHRydWUsCiAgImZpbGxDb2xvciI6ICJibHVlIiwKICAiZmlsbE9wYWNpdHkiOiAwLjIsCiAgImZpbGxSdWxlIjogImV2ZW5vZGQiLAogICJsaW5lQ2FwIjogInJvdW5kIiwKICAibGluZUpvaW4iOiAicm91bmQiLAogICJvcGFjaXR5IjogMS4wLAogICJyYWRpdXMiOiAxMjEyLjAsCiAgInN0cm9rZSI6IHRydWUsCiAgIndlaWdodCI6IDMKfQogICAgICAgICAgICAgICAgKQogICAgICAgICAgICAgICAgLmFkZFRvKG1hcF9iNGY0OTUwYWRjYmY0YzZhODIyZTJiOGJkYmIxOTE3Zik7CiAgICAgICAgICAgIAogICAgCiAgICAgICAgICAgIHZhciBwb3B1cF84NjE0YjA4OTUyMTU0ZmU2Yjk5NTdlYjY4ODZiMTczNiA9IEwucG9wdXAoe21heFdpZHRoOiAnMTAwJScKICAgICAgICAgICAgCiAgICAgICAgICAgIH0pOwoKICAgICAgICAgICAgCiAgICAgICAgICAgICAgICB2YXIgaHRtbF9kM2JhMDQ1MTQyMzQ0YTUwOWE0NGRkOTRkODEyMzY4NiA9ICQoYDxkaXYgaWQ9Imh0bWxfZDNiYTA0NTE0MjM0NGE1MDlhNDRkZDk0ZDgxMjM2ODYiIHN0eWxlPSJ3aWR0aDogMTAwLjAlOyBoZWlnaHQ6IDEwMC4wJTsiPkNoYW5kaWdhcmggIDE1MTUgIG9uIDA5LzA4LzIwMjAgMjA6Mjc6Mzk8L2Rpdj5gKVswXTsKICAgICAgICAgICAgICAgIHBvcHVwXzg2MTRiMDg5NTIxNTRmZTZiOTk1N2ViNjg4NmIxNzM2LnNldENvbnRlbnQoaHRtbF9kM2JhMDQ1MTQyMzQ0YTUwOWE0NGRkOTRkODEyMzY4Nik7CiAgICAgICAgICAgIAoKICAgICAgICAgICAgY2lyY2xlXzMzYWZjZWY0NGY0MDQ1M2NhNDVjZWI2YzEwODAzZWEwLmJpbmRQb3B1cChwb3B1cF84NjE0YjA4OTUyMTU0ZmU2Yjk5NTdlYjY4ODZiMTczNikKICAgICAgICAgICAgOwoKICAgICAgICAgICAgCiAgICAgICAgCiAgICAKCiAgICAgICAgICAgIHZhciBjaXJjbGVfNjlkM2JkNzVjNzkwNGZmNzhmYmFmMDNlMTA1ZWM2NWIgPSBMLmNpcmNsZSgKICAgICAgICAgICAgICAgIFsyMC43MTc5ODU3NDk5OTk5OTcsIDcwLjkzMjM5OTI0MDkyMl0sCiAgICAgICAgICAgICAgICB7CiAgImJ1YmJsaW5nTW91c2VFdmVudHMiOiB0cnVlLAogICJjb2xvciI6ICJibHVlIiwKICAiZGFzaEFycmF5IjogbnVsbCwKICAiZGFzaE9mZnNldCI6IG51bGwsCiAgImZpbGwiOiB0cnVlLAogICJmaWxsQ29sb3IiOiAiYmx1ZSIsCiAgImZpbGxPcGFjaXR5IjogMC4yLAogICJmaWxsUnVsZSI6ICJldmVub2RkIiwKICAibGluZUNhcCI6ICJyb3VuZCIsCiAgImxpbmVKb2luIjogInJvdW5kIiwKICAib3BhY2l0eSI6IDEuMCwKICAicmFkaXVzIjogMTI0NC4wLAogICJzdHJva2UiOiB0cnVlLAogICJ3ZWlnaHQiOiAzCn0KICAgICAgICAgICAgICAgICkKICAgICAgICAgICAgICAgIC5hZGRUbyhtYXBfYjRmNDk1MGFkY2JmNGM2YTgyMmUyYjhiZGJiMTkxN2YpOwogICAgICAgICAgICAKICAgIAogICAgICAgICAgICB2YXIgcG9wdXBfMzAzOWM1Yzg3OWRkNGUxMjlhM2Q2ZDdjOGY5MjRjZWEgPSBMLnBvcHVwKHttYXhXaWR0aDogJzEwMCUnCiAgICAgICAgICAgIAogICAgICAgICAgICB9KTsKCiAgICAgICAgICAgIAogICAgICAgICAgICAgICAgdmFyIGh0bWxfYjM5ODhjOGYwNThiNGVlYmFlZGRiY2I0NmVmZTNjZDAgPSAkKGA8ZGl2IGlkPSJodG1sX2IzOTg4YzhmMDU4YjRlZWJhZWRkYmNiNDZlZmUzY2QwIiBzdHlsZT0id2lkdGg6IDEwMC4wJTsgaGVpZ2h0OiAxMDAuMCU7Ij5EYWRyYSBhbmQgTmFnYXIgSGF2ZWxpIGFuZCBEYW1hbiBhbmQgRGl1ICAxNTU1ICBvbiAwOS8wOC8yMDIwIDE5OjQyOjQzPC9kaXY+YClbMF07CiAgICAgICAgICAgICAgICBwb3B1cF8zMDM5YzVjODc5ZGQ0ZTEyOWEzZDZkN2M4ZjkyNGNlYS5zZXRDb250ZW50KGh0bWxfYjM5ODhjOGYwNThiNGVlYmFlZGRiY2I0NmVmZTNjZDApOwogICAgICAgICAgICAKCiAgICAgICAgICAgIGNpcmNsZV82OWQzYmQ3NWM3OTA0ZmY3OGZiYWYwM2UxMDVlYzY1Yi5iaW5kUG9wdXAocG9wdXBfMzAzOWM1Yzg3OWRkNGUxMjlhM2Q2ZDdjOGY5MjRjZWEpCiAgICAgICAgICAgIDsKCiAgICAgICAgICAgIAogICAgICAgIAogICAgCgogICAgICAgICAgICB2YXIgY2lyY2xlXzZmNWY3ZmM5MDdkYjRhNDZhZWFlMTA2YTdkMTA2NWQwID0gTC5jaXJjbGUoCiAgICAgICAgICAgICAgICBbMjUuNTM3OTQzMiwgOTEuMjk5OTEwMl0sCiAgICAgICAgICAgICAgICB7CiAgImJ1YmJsaW5nTW91c2VFdmVudHMiOiB0cnVlLAogICJjb2xvciI6ICJibHVlIiwKICAiZGFzaEFycmF5IjogbnVsbCwKICAiZGFzaE9mZnNldCI6IG51bGwsCiAgImZpbGwiOiB0cnVlLAogICJmaWxsQ29sb3IiOiAiYmx1ZSIsCiAgImZpbGxPcGFjaXR5IjogMC4yLAogICJmaWxsUnVsZSI6ICJldmVub2RkIiwKICAibGluZUNhcCI6ICJyb3VuZCIsCiAgImxpbmVKb2luIjogInJvdW5kIiwKICAib3BhY2l0eSI6IDEuMCwKICAicmFkaXVzIjogODkxLjIsCiAgInN0cm9rZSI6IHRydWUsCiAgIndlaWdodCI6IDMKfQogICAgICAgICAgICAgICAgKQogICAgICAgICAgICAgICAgLmFkZFRvKG1hcF9iNGY0OTUwYWRjYmY0YzZhODIyZTJiOGJkYmIxOTE3Zik7CiAgICAgICAgICAgIAogICAgCiAgICAgICAgICAgIHZhciBwb3B1cF83ZjY0YjQ3NjE5OTY0MzY2ODU1MmFiMDA0YzFiNjcxNCA9IEwucG9wdXAoe21heFdpZHRoOiAnMTAwJScKICAgICAgICAgICAgCiAgICAgICAgICAgIH0pOwoKICAgICAgICAgICAgCiAgICAgICAgICAgICAgICB2YXIgaHRtbF9kZTg5ZjMxYzg5MDc0M2IxYjZkNzNkYjFhMGQxZDk5MyA9ICQoYDxkaXYgaWQ9Imh0bWxfZGU4OWYzMWM4OTA3NDNiMWI2ZDczZGIxYTBkMWQ5OTMiIHN0eWxlPSJ3aWR0aDogMTAwLjAlOyBoZWlnaHQ6IDEwMC4wJTsiPk1lZ2hhbGF5YSAgMTExNCAgb24gMTAvMDgvMjAyMCAxMzoyODozNTwvZGl2PmApWzBdOwogICAgICAgICAgICAgICAgcG9wdXBfN2Y2NGI0NzYxOTk2NDM2Njg1NTJhYjAwNGMxYjY3MTQuc2V0Q29udGVudChodG1sX2RlODlmMzFjODkwNzQzYjFiNmQ3M2RiMWEwZDFkOTkzKTsKICAgICAgICAgICAgCgogICAgICAgICAgICBjaXJjbGVfNmY1ZjdmYzkwN2RiNGE0NmFlYWUxMDZhN2QxMDY1ZDAuYmluZFBvcHVwKHBvcHVwXzdmNjRiNDc2MTk5NjQzNjY4NTUyYWIwMDRjMWI2NzE0KQogICAgICAgICAgICA7CgogICAgICAgICAgICAKICAgICAgICAKICAgIAoKICAgICAgICAgICAgdmFyIGNpcmNsZV8yMjVjMjFjOWFiMDk0NDAyOGFkODhjY2I0NjRmMjEwMSA9IEwuY2lyY2xlKAogICAgICAgICAgICAgICAgWzI3LjYwMTAyOSwgODguNDU0MTM2Mzg2ODAxNDVdLAogICAgICAgICAgICAgICAgewogICJidWJibGluZ01vdXNlRXZlbnRzIjogdHJ1ZSwKICAiY29sb3IiOiAiYmx1ZSIsCiAgImRhc2hBcnJheSI6IG51bGwsCiAgImRhc2hPZmZzZXQiOiBudWxsLAogICJmaWxsIjogdHJ1ZSwKICAiZmlsbENvbG9yIjogImJsdWUiLAogICJmaWxsT3BhY2l0eSI6IDAuMiwKICAiZmlsbFJ1bGUiOiAiZXZlbm9kZCIsCiAgImxpbmVDYXAiOiAicm91bmQiLAogICJsaW5lSm9pbiI6ICJyb3VuZCIsCiAgIm9wYWNpdHkiOiAxLjAsCiAgInJhZGl1cyI6IDY5Mi44LAogICJzdHJva2UiOiB0cnVlLAogICJ3ZWlnaHQiOiAzCn0KICAgICAgICAgICAgICAgICkKICAgICAgICAgICAgICAgIC5hZGRUbyhtYXBfYjRmNDk1MGFkY2JmNGM2YTgyMmUyYjhiZGJiMTkxN2YpOwogICAgICAgICAgICAKICAgIAogICAgICAgICAgICB2YXIgcG9wdXBfNWYzOGJhYTQwY2QwNDNhN2FhZTJhZWYyYTViMjU3NWIgPSBMLnBvcHVwKHttYXhXaWR0aDogJzEwMCUnCiAgICAgICAgICAgIAogICAgICAgICAgICB9KTsKCiAgICAgICAgICAgIAogICAgICAgICAgICAgICAgdmFyIGh0bWxfODcxN2FiYmMyNzcwNGEzMWEzZTc3NzhkNDViMDIzZmQgPSAkKGA8ZGl2IGlkPSJodG1sXzg3MTdhYmJjMjc3MDRhMzFhM2U3Nzc4ZDQ1YjAyM2ZkIiBzdHlsZT0id2lkdGg6IDEwMC4wJTsgaGVpZ2h0OiAxMDAuMCU7Ij5TaWtraW0gIDg2NiAgb24gMDkvMDgvMjAyMCAyMjoxNzozNDwvZGl2PmApWzBdOwogICAgICAgICAgICAgICAgcG9wdXBfNWYzOGJhYTQwY2QwNDNhN2FhZTJhZWYyYTViMjU3NWIuc2V0Q29udGVudChodG1sXzg3MTdhYmJjMjc3MDRhMzFhM2U3Nzc4ZDQ1YjAyM2ZkKTsKICAgICAgICAgICAgCgogICAgICAgICAgICBjaXJjbGVfMjI1YzIxYzlhYjA5NDQwMjhhZDg4Y2NiNDY0ZjIxMDEuYmluZFBvcHVwKHBvcHVwXzVmMzhiYWE0MGNkMDQzYTdhYWUyYWVmMmE1YjI1NzViKQogICAgICAgICAgICA7CgogICAgICAgICAgICAKICAgICAgICAKICAgIAoKICAgICAgICAgICAgdmFyIGNpcmNsZV81OGFiYWJiY2U5MWQ0ZDFlYWEyNjU2ODAyOTVmMDMwZiA9IEwuY2lyY2xlKAogICAgICAgICAgICAgICAgWzIzLjIxNDYxNjksIDkyLjg2ODc2MTJdLAogICAgICAgICAgICAgICAgewogICJidWJibGluZ01vdXNlRXZlbnRzIjogdHJ1ZSwKICAiY29sb3IiOiAiYmx1ZSIsCiAgImRhc2hBcnJheSI6IG51bGwsCiAgImRhc2hPZmZzZXQiOiBudWxsLAogICJmaWxsIjogdHJ1ZSwKICAiZmlsbENvbG9yIjogImJsdWUiLAogICJmaWxsT3BhY2l0eSI6IDAuMiwKICAiZmlsbFJ1bGUiOiAiZXZlbm9kZCIsCiAgImxpbmVDYXAiOiAicm91bmQiLAogICJsaW5lSm9pbiI6ICJyb3VuZCIsCiAgIm9wYWNpdHkiOiAxLjAsCiAgInJhZGl1cyI6IDQ5Ni4wLAogICJzdHJva2UiOiB0cnVlLAogICJ3ZWlnaHQiOiAzCn0KICAgICAgICAgICAgICAgICkKICAgICAgICAgICAgICAgIC5hZGRUbyhtYXBfYjRmNDk1MGFkY2JmNGM2YTgyMmUyYjhiZGJiMTkxN2YpOwogICAgICAgICAgICAKICAgIAogICAgICAgICAgICB2YXIgcG9wdXBfNzdmMzQ1MmJhMTI3NDUyZTgwMDNkZjNlZTEwZmJhMDggPSBMLnBvcHVwKHttYXhXaWR0aDogJzEwMCUnCiAgICAgICAgICAgIAogICAgICAgICAgICB9KTsKCiAgICAgICAgICAgIAogICAgICAgICAgICAgICAgdmFyIGh0bWxfZjY5NDhhZmY0ZDI1NDU2OTliMGEwZGI1ZDQ5OWU0ODYgPSAkKGA8ZGl2IGlkPSJodG1sX2Y2OTQ4YWZmNGQyNTQ1Njk5YjBhMGRiNWQ0OTllNDg2IiBzdHlsZT0id2lkdGg6IDEwMC4wJTsgaGVpZ2h0OiAxMDAuMCU7Ij5NaXpvcmFtICA2MjAgIG9uIDEwLzA4LzIwMjAgMDc6NDM6MzQ8L2Rpdj5gKVswXTsKICAgICAgICAgICAgICAgIHBvcHVwXzc3ZjM0NTJiYTEyNzQ1MmU4MDAzZGYzZWUxMGZiYTA4LnNldENvbnRlbnQoaHRtbF9mNjk0OGFmZjRkMjU0NTY5OWIwYTBkYjVkNDk5ZTQ4Nik7CiAgICAgICAgICAgIAoKICAgICAgICAgICAgY2lyY2xlXzU4YWJhYmJjZTkxZDRkMWVhYTI2NTY4MDI5NWYwMzBmLmJpbmRQb3B1cChwb3B1cF83N2YzNDUyYmExMjc0NTJlODAwM2RmM2VlMTBmYmEwOCkKICAgICAgICAgICAgOwoKICAgICAgICAgICAgCiAgICAgICAgCiAgICAKCiAgICAgICAgICAgIHZhciBjaXJjbGVfZjFmMGRlMGRjMGZkNGZiZmFmMjIyMzQ1ZDhiZWQ5ZTQgPSBMLmNpcmNsZSgKICAgICAgICAgICAgICAgIFsxMC4yMTg4MzQ0LCA5Mi41NzcxMzI5XSwKICAgICAgICAgICAgICAgIHsKICAiYnViYmxpbmdNb3VzZUV2ZW50cyI6IHRydWUsCiAgImNvbG9yIjogImJsdWUiLAogICJkYXNoQXJyYXkiOiBudWxsLAogICJkYXNoT2Zmc2V0IjogbnVsbCwKICAiZmlsbCI6IHRydWUsCiAgImZpbGxDb2xvciI6ICJibHVlIiwKICAiZmlsbE9wYWNpdHkiOiAwLjIsCiAgImZpbGxSdWxlIjogImV2ZW5vZGQiLAogICJsaW5lQ2FwIjogInJvdW5kIiwKICAibGluZUpvaW4iOiAicm91bmQiLAogICJvcGFjaXR5IjogMS4wLAogICJyYWRpdXMiOiAxMTkyLjAsCiAgInN0cm9rZSI6IHRydWUsCiAgIndlaWdodCI6IDMKfQogICAgICAgICAgICAgICAgKQogICAgICAgICAgICAgICAgLmFkZFRvKG1hcF9iNGY0OTUwYWRjYmY0YzZhODIyZTJiOGJkYmIxOTE3Zik7CiAgICAgICAgICAgIAogICAgCiAgICAgICAgICAgIHZhciBwb3B1cF81MjIxMTc4OWFiZmM0YmU5YWEzYmQ3NTM3OWI0MGU4ZiA9IEwucG9wdXAoe21heFdpZHRoOiAnMTAwJScKICAgICAgICAgICAgCiAgICAgICAgICAgIH0pOwoKICAgICAgICAgICAgCiAgICAgICAgICAgICAgICB2YXIgaHRtbF9lZTliNzVhODJmNGY0ZTRiYmQxN2MyOThhZTI4MzJkZSA9ICQoYDxkaXYgaWQ9Imh0bWxfZWU5Yjc1YTgyZjRmNGU0YmJkMTdjMjk4YWUyODMyZGUiIHN0eWxlPSJ3aWR0aDogMTAwLjAlOyBoZWlnaHQ6IDEwMC4wJTsiPkFuZGFtYW4gYW5kIE5pY29iYXIgSXNsYW5kcyAgMTQ5MCAgb24gMDkvMDgvMjAyMCAyMDo1MjozNzwvZGl2PmApWzBdOwogICAgICAgICAgICAgICAgcG9wdXBfNTIyMTE3ODlhYmZjNGJlOWFhM2JkNzUzNzliNDBlOGYuc2V0Q29udGVudChodG1sX2VlOWI3NWE4MmY0ZjRlNGJiZDE3YzI5OGFlMjgzMmRlKTsKICAgICAgICAgICAgCgogICAgICAgICAgICBjaXJjbGVfZjFmMGRlMGRjMGZkNGZiZmFmMjIyMzQ1ZDhiZWQ5ZTQuYmluZFBvcHVwKHBvcHVwXzUyMjExNzg5YWJmYzRiZTlhYTNiZDc1Mzc5YjQwZThmKQogICAgICAgICAgICA7CgogICAgICAgICAgICAKICAgICAgICAKICAgIAoKICAgICAgICAgICAgdmFyIGNpcmNsZV85YmM4MWFjY2JlOWY0NGRhYTIwZDE3OTMxMmQ1ODYzMSA9IEwuY2lyY2xlKAogICAgICAgICAgICAgICAgWzQ4Ljg1MDIwODMwMDAwMDAwNiwgLTU0LjAxNDMyMjAxMDIyNDY4XSwKICAgICAgICAgICAgICAgIHsKICAiYnViYmxpbmdNb3VzZUV2ZW50cyI6IHRydWUsCiAgImNvbG9yIjogImJsdWUiLAogICJkYXNoQXJyYXkiOiBudWxsLAogICJkYXNoT2Zmc2V0IjogbnVsbCwKICAiZmlsbCI6IHRydWUsCiAgImZpbGxDb2xvciI6ICJibHVlIiwKICAiZmlsbE9wYWNpdHkiOiAwLjIsCiAgImZpbGxSdWxlIjogImV2ZW5vZGQiLAogICJsaW5lQ2FwIjogInJvdW5kIiwKICAibGluZUpvaW4iOiAicm91bmQiLAogICJvcGFjaXR5IjogMS4wLAogICJzdHJva2UiOiB0cnVlLAogICJ3ZWlnaHQiOiAzCn0KICAgICAgICAgICAgICAgICkKICAgICAgICAgICAgICAgIC5hZGRUbyhtYXBfYjRmNDk1MGFkY2JmNGM2YTgyMmUyYjhiZGJiMTkxN2YpOwogICAgICAgICAgICAKICAgIAogICAgICAgICAgICB2YXIgcG9wdXBfZTdlZjkxNDQ5NGNiNDFiYzllMmY3NDBmNzlkM2Q4ZWIgPSBMLnBvcHVwKHttYXhXaWR0aDogJzEwMCUnCiAgICAgICAgICAgIAogICAgICAgICAgICB9KTsKCiAgICAgICAgICAgIAogICAgICAgICAgICAgICAgdmFyIGh0bWxfZmM3ODFiOWNjNjA1NGQ3Yzk5YmVhNTM0NmRkYzM3NGEgPSAkKGA8ZGl2IGlkPSJodG1sX2ZjNzgxYjljYzYwNTRkN2M5OWJlYTUzNDZkZGMzNzRhIiBzdHlsZT0id2lkdGg6IDEwMC4wJTsgaGVpZ2h0OiAxMDAuMCU7Ij5TdGF0ZSBVbmFzc2lnbmVkICAwICBvbiAxOS8wNy8yMDIwIDA5OjQwOjAxPC9kaXY+YClbMF07CiAgICAgICAgICAgICAgICBwb3B1cF9lN2VmOTE0NDk0Y2I0MWJjOWUyZjc0MGY3OWQzZDhlYi5zZXRDb250ZW50KGh0bWxfZmM3ODFiOWNjNjA1NGQ3Yzk5YmVhNTM0NmRkYzM3NGEpOwogICAgICAgICAgICAKCiAgICAgICAgICAgIGNpcmNsZV85YmM4MWFjY2JlOWY0NGRhYTIwZDE3OTMxMmQ1ODYzMS5iaW5kUG9wdXAocG9wdXBfZTdlZjkxNDQ5NGNiNDFiYzllMmY3NDBmNzlkM2Q4ZWIpCiAgICAgICAgICAgIDsKCiAgICAgICAgICAgIAogICAgICAgIAogICAgCgogICAgICAgICAgICB2YXIgY2lyY2xlXzFhNGRiZjU5ZmQ2ZDQyNmQ4MWM2YzAxMTBiZTk4YTBjID0gTC5jaXJjbGUoCiAgICAgICAgICAgICAgICBbMTAuODgzMjc3MSwgNzIuODE3MTA2OV0sCiAgICAgICAgICAgICAgICB7CiAgImJ1YmJsaW5nTW91c2VFdmVudHMiOiB0cnVlLAogICJjb2xvciI6ICJibHVlIiwKICAiZGFzaEFycmF5IjogbnVsbCwKICAiZGFzaE9mZnNldCI6IG51bGwsCiAgImZpbGwiOiB0cnVlLAogICJmaWxsQ29sb3IiOiAiYmx1ZSIsCiAgImZpbGxPcGFjaXR5IjogMC4yLAogICJmaWxsUnVsZSI6ICJldmVub2RkIiwKICAibGluZUNhcCI6ICJyb3VuZCIsCiAgImxpbmVKb2luIjogInJvdW5kIiwKICAib3BhY2l0eSI6IDEuMCwKICAic3Ryb2tlIjogdHJ1ZSwKICAid2VpZ2h0IjogMwp9CiAgICAgICAgICAgICAgICApCiAgICAgICAgICAgICAgICAuYWRkVG8obWFwX2I0ZjQ5NTBhZGNiZjRjNmE4MjJlMmI4YmRiYjE5MTdmKTsKICAgICAgICAgICAgCiAgICAKICAgICAgICAgICAgdmFyIHBvcHVwX2YzNmIxODk3NzMzYzQyYjJhNjZiYzMwOWZmNDlkYjRiID0gTC5wb3B1cCh7bWF4V2lkdGg6ICcxMDAlJwogICAgICAgICAgICAKICAgICAgICAgICAgfSk7CgogICAgICAgICAgICAKICAgICAgICAgICAgICAgIHZhciBodG1sXzE1MDMxYTA5ZTkwNzQ1ODNhMTMyYmFlZDMwYTE2YWRiID0gJChgPGRpdiBpZD0iaHRtbF8xNTAzMWEwOWU5MDc0NTgzYTEzMmJhZWQzMGExNmFkYiIgc3R5bGU9IndpZHRoOiAxMDAuMCU7IGhlaWdodDogMTAwLjAlOyI+TGFrc2hhZHdlZXAgIDAgIG9uIDI2LzAzLzIwMjAgMDc6MTk6Mjk8L2Rpdj5gKVswXTsKICAgICAgICAgICAgICAgIHBvcHVwX2YzNmIxODk3NzMzYzQyYjJhNjZiYzMwOWZmNDlkYjRiLnNldENvbnRlbnQoaHRtbF8xNTAzMWEwOWU5MDc0NTgzYTEzMmJhZWQzMGExNmFkYik7CiAgICAgICAgICAgIAoKICAgICAgICAgICAgY2lyY2xlXzFhNGRiZjU5ZmQ2ZDQyNmQ4MWM2YzAxMTBiZTk4YTBjLmJpbmRQb3B1cChwb3B1cF9mMzZiMTg5NzczM2M0MmIyYTY2YmMzMDlmZjQ5ZGI0YikKICAgICAgICAgICAgOwoKICAgICAgICAgICAgCiAgICAgICAgCjwvc2NyaXB0Pg== onload=\"this.contentDocument.open();this.contentDocument.write(atob(this.getAttribute('data-html')));this.contentDocument.close();\" allowfullscreen webkitallowfullscreen mozallowfullscreen></iframe></div></div>"
            ],
            "text/plain": [
              "<folium.folium.Map at 0x7f6a07b18630>"
            ]
          },
          "metadata": {
            "tags": []
          },
          "execution_count": 22
        }
      ]
    },
    {
      "cell_type": "markdown",
      "metadata": {
        "id": "Pcb7pRe5eeJJ"
      },
      "source": [
        "**Note:** The `folium_map_with_circles()` function is NOT a standard Python function. It is a user-defined function created at WhiteHat Jr using Python to simplify the map creation process. You will learn to create your own user-defined function in the subsequent classes in this course.\n",
        "\n",
        "Let's export the above map as an HTML file. You can make it a web page like a website and share it with your parents or friends. To do this, you need to use the `save()` function which is a standard Python function. The input to this function should be a path (or location) of the directory where you want to store the HTML file. Also, name the file as `index.html`. This is very important."
      ]
    },
    {
      "cell_type": "code",
      "metadata": {
        "id": "0Y1VFs1vWcL2",
        "colab": {
          "base_uri": "https://localhost:8080/",
          "height": 203
        },
        "outputId": "90475af3-8429-41d9-e3e4-d0160a67c8d9"
      },
      "source": [
        "# Student Action: Export the world map as an HTML file. \n",
        "india_map=folium_map_with_circles(\"rahul\",\"India\",1200,500, 8,2,'OpenStreetMap',4,\"blue\",True)\n",
        "india_map.save(\"/content/index.html\")"
      ],
      "execution_count": 1,
      "outputs": [
        {
          "output_type": "error",
          "ename": "NameError",
          "evalue": "ignored",
          "traceback": [
            "\u001b[0;31m---------------------------------------------------------------------------\u001b[0m",
            "\u001b[0;31mNameError\u001b[0m                                 Traceback (most recent call last)",
            "\u001b[0;32m<ipython-input-1-83041a3c5557>\u001b[0m in \u001b[0;36m<module>\u001b[0;34m()\u001b[0m\n\u001b[1;32m      1\u001b[0m \u001b[0;31m# Student Action: Export the world map as an HTML file.\u001b[0m\u001b[0;34m\u001b[0m\u001b[0;34m\u001b[0m\u001b[0;34m\u001b[0m\u001b[0m\n\u001b[0;32m----> 2\u001b[0;31m \u001b[0mindia_map\u001b[0m\u001b[0;34m=\u001b[0m\u001b[0mfolium_map_with_circles\u001b[0m\u001b[0;34m(\u001b[0m\u001b[0;34m\"rahul\"\u001b[0m\u001b[0;34m,\u001b[0m\u001b[0;34m\"India\"\u001b[0m\u001b[0;34m,\u001b[0m\u001b[0;36m1200\u001b[0m\u001b[0;34m,\u001b[0m\u001b[0;36m500\u001b[0m\u001b[0;34m,\u001b[0m \u001b[0;36m8\u001b[0m\u001b[0;34m,\u001b[0m\u001b[0;36m2\u001b[0m\u001b[0;34m,\u001b[0m\u001b[0;34m'OpenStreetMap'\u001b[0m\u001b[0;34m,\u001b[0m\u001b[0;36m4\u001b[0m\u001b[0;34m,\u001b[0m\u001b[0;34m\"blue\"\u001b[0m\u001b[0;34m,\u001b[0m\u001b[0;32mTrue\u001b[0m\u001b[0;34m)\u001b[0m\u001b[0;34m\u001b[0m\u001b[0;34m\u001b[0m\u001b[0m\n\u001b[0m\u001b[1;32m      3\u001b[0m \u001b[0mindia_map\u001b[0m\u001b[0;34m.\u001b[0m\u001b[0msave\u001b[0m\u001b[0;34m(\u001b[0m\u001b[0;34m\"/content/index.html\"\u001b[0m\u001b[0;34m)\u001b[0m\u001b[0;34m\u001b[0m\u001b[0;34m\u001b[0m\u001b[0m\n",
            "\u001b[0;31mNameError\u001b[0m: name 'folium_map_with_circles' is not defined"
          ]
        }
      ]
    },
    {
      "cell_type": "markdown",
      "metadata": {
        "id": "XQS9oIkAFw6u"
      },
      "source": [
        "---"
      ]
    }
  ]
}